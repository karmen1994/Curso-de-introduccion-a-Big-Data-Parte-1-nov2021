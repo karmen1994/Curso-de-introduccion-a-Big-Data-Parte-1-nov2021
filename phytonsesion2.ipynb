{
  "nbformat": 4,
  "nbformat_minor": 0,
  "metadata": {
    "colab": {
      "name": "Untitled0.ipynb",
      "provenance": [],
      "authorship_tag": "ABX9TyM8naTrR1STQE1NMyWItl9Q",
      "include_colab_link": true
    },
    "kernelspec": {
      "name": "python3",
      "display_name": "Python 3"
    },
    "language_info": {
      "name": "python"
    }
  },
  "cells": [
    {
      "cell_type": "markdown",
      "metadata": {
        "id": "view-in-github",
        "colab_type": "text"
      },
      "source": [
        "<a href=\"https://colab.research.google.com/github/karmen1994/Curso-de-introduccion-a-Big-Data-Parte-1-nov2021/blob/main/phytonsesion2.ipynb\" target=\"_parent\"><img src=\"https://colab.research.google.com/assets/colab-badge.svg\" alt=\"Open In Colab\"/></a>"
      ]
    },
    {
      "cell_type": "code",
      "metadata": {
        "colab": {
          "base_uri": "https://localhost:8080/"
        },
        "id": "4Jg6-tGvUFoD",
        "outputId": "4dd76fc9-91d6-49bd-b327-506a81e8113a"
      },
      "source": [
        "!help\n"
      ],
      "execution_count": 1,
      "outputs": [
        {
          "output_type": "stream",
          "name": "stdout",
          "text": [
            "GNU bash, version 4.4.20(1)-release (x86_64-pc-linux-gnu)\n",
            "These shell commands are defined internally.  Type `help' to see this list.\n",
            "Type `help name' to find out more about the function `name'.\n",
            "Use `info bash' to find out more about the shell in general.\n",
            "Use `man -k' or `info' to find out more about commands not in this list.\n",
            "\n",
            "A star (*) next to a name means that the command is disabled.\n",
            "\n",
            " job_spec [&]                            history [-c] [-d offset] [n] or hist>\n",
            " (( expression ))                        if COMMANDS; then COMMANDS; [ elif C>\n",
            " . filename [arguments]                  jobs [-lnprs] [jobspec ...] or jobs >\n",
            " :                                       kill [-s sigspec | -n signum | -sigs>\n",
            " [ arg... ]                              let arg [arg ...]\n",
            " [[ expression ]]                        local [option] name[=value] ...\n",
            " alias [-p] [name[=value] ... ]          logout [n]\n",
            " bg [job_spec ...]                       mapfile [-d delim] [-n count] [-O or>\n",
            " bind [-lpsvPSVX] [-m keymap] [-f file>  popd [-n] [+N | -N]\n",
            " break [n]                               printf [-v var] format [arguments]\n",
            " builtin [shell-builtin [arg ...]]       pushd [-n] [+N | -N | dir]\n",
            " caller [expr]                           pwd [-LP]\n",
            " case WORD in [PATTERN [| PATTERN]...)>  read [-ers] [-a array] [-d delim] [->\n",
            " cd [-L|[-P [-e]] [-@]] [dir]            readarray [-n count] [-O origin] [-s>\n",
            " command [-pVv] command [arg ...]        readonly [-aAf] [name[=value] ...] o>\n",
            " compgen [-abcdefgjksuv] [-o option] [>  return [n]\n",
            " complete [-abcdefgjksuv] [-pr] [-DE] >  select NAME [in WORDS ... ;] do COMM>\n",
            " compopt [-o|+o option] [-DE] [name ..>  set [-abefhkmnptuvxBCHP] [-o option->\n",
            " continue [n]                            shift [n]\n",
            " coproc [NAME] command [redirections]    shopt [-pqsu] [-o] [optname ...]\n",
            " declare [-aAfFgilnrtux] [-p] [name[=v>  source filename [arguments]\n",
            " dirs [-clpv] [+N] [-N]                  suspend [-f]\n",
            " disown [-h] [-ar] [jobspec ... | pid >  test [expr]\n",
            " echo [-neE] [arg ...]                   time [-p] pipeline\n",
            " enable [-a] [-dnps] [-f filename] [na>  times\n",
            " eval [arg ...]                          trap [-lp] [[arg] signal_spec ...]\n",
            " exec [-cl] [-a name] [command [argume>  true\n",
            " exit [n]                                type [-afptP] name [name ...]\n",
            " export [-fn] [name[=value] ...] or ex>  typeset [-aAfFgilnrtux] [-p] name[=v>\n",
            " false                                   ulimit [-SHabcdefiklmnpqrstuvxPT] [l>\n",
            " fc [-e ename] [-lnr] [first] [last] o>  umask [-p] [-S] [mode]\n",
            " fg [job_spec]                           unalias [-a] name [name ...]\n",
            " for NAME [in WORDS ... ] ; do COMMAND>  unset [-f] [-v] [-n] [name ...]\n",
            " for (( exp1; exp2; exp3 )); do COMMAN>  until COMMANDS; do COMMANDS; done\n",
            " function name { COMMANDS ; } or name >  variables - Names and meanings of so>\n",
            " getopts optstring name [arg]            wait [-n] [id ...]\n",
            " hash [-lr] [-p pathname] [-dt] [name >  while COMMANDS; do COMMANDS; done\n",
            " help [-dms] [pattern ...]               { COMMANDS ; }\n"
          ]
        }
      ]
    },
    {
      "cell_type": "code",
      "metadata": {
        "id": "cdUEd0J-V-wC"
      },
      "source": [
        "man find"
      ],
      "execution_count": 2,
      "outputs": []
    },
    {
      "cell_type": "code",
      "metadata": {
        "colab": {
          "base_uri": "https://localhost:8080/"
        },
        "id": "-3gSs-ZSWL2o",
        "outputId": "68561c70-a25d-44e4-9a24-04ccea6c3061"
      },
      "source": [
        "!find / -name '*.ipynb'"
      ],
      "execution_count": 5,
      "outputs": [
        {
          "output_type": "stream",
          "name": "stdout",
          "text": [
            "/usr/local/lib/python2.7/dist-packages/notebook/bundler/tests/resources/empty.ipynb\n",
            "/usr/local/lib/python2.7/dist-packages/nbformat/tests/test4.ipynb\n",
            "/usr/local/lib/python2.7/dist-packages/nbformat/tests/test3.ipynb\n",
            "/usr/local/lib/python2.7/dist-packages/nbformat/tests/invalid.ipynb\n",
            "/usr/local/lib/python2.7/dist-packages/nbformat/tests/test4plus.ipynb\n",
            "/usr/local/lib/python2.7/dist-packages/nbformat/tests/test4jupyter_metadata.ipynb\n",
            "/usr/local/lib/python2.7/dist-packages/nbformat/tests/test2.ipynb\n",
            "/usr/local/lib/python2.7/dist-packages/nbformat/tests/test4docinfo.ipynb\n",
            "/usr/local/lib/python2.7/dist-packages/nbformat/tests/test4custom.ipynb\n",
            "/usr/local/lib/python2.7/dist-packages/matplotlib/backends/web_backend/nbagg_uat.ipynb\n",
            "/usr/local/lib/python2.7/dist-packages/music21/demos/MersenneDemo.ipynb\n",
            "/usr/local/lib/python2.7/dist-packages/nbconvert/tests/files/notebook3_with_errors.ipynb\n",
            "/usr/local/lib/python2.7/dist-packages/nbconvert/tests/files/Widget_List.ipynb\n",
            "/usr/local/lib/python2.7/dist-packages/nbconvert/tests/files/markdown_display_priority.ipynb\n",
            "/usr/local/lib/python2.7/dist-packages/nbconvert/tests/files/notebook4_jpeg.ipynb\n",
            "/usr/local/lib/python2.7/dist-packages/nbconvert/tests/files/notebook1.ipynb\n",
            "/usr/local/lib/python2.7/dist-packages/nbconvert/tests/files/latex-linked-image.ipynb\n",
            "/usr/local/lib/python2.7/dist-packages/nbconvert/tests/files/notebook2.ipynb\n",
            "/usr/local/lib/python2.7/dist-packages/nbconvert/tests/files/notebook_jl.ipynb\n",
            "/usr/local/lib/python2.7/dist-packages/nbconvert/exporters/tests/files/pngmetadata.ipynb\n",
            "/usr/local/lib/python2.7/dist-packages/nbconvert/exporters/tests/files/svg.ipynb\n",
            "/usr/local/lib/python2.7/dist-packages/nbconvert/exporters/tests/files/prompt_numbers.ipynb\n",
            "/usr/local/lib/python2.7/dist-packages/nbconvert/exporters/tests/files/attachment.ipynb\n",
            "/usr/local/lib/python2.7/dist-packages/nbconvert/exporters/tests/files/rawtest.ipynb\n",
            "/usr/local/lib/python2.7/dist-packages/nbconvert/exporters/tests/files/notebook2.ipynb\n",
            "/usr/local/lib/python2.7/dist-packages/nbconvert/preprocessors/tests/files/Clear Output.ipynb\n",
            "/usr/local/lib/python2.7/dist-packages/nbconvert/preprocessors/tests/files/Factorials.ipynb\n",
            "/usr/local/lib/python2.7/dist-packages/nbconvert/preprocessors/tests/files/JupyterWidgets.ipynb\n",
            "/usr/local/lib/python2.7/dist-packages/nbconvert/preprocessors/tests/files/Skip Exceptions.ipynb\n",
            "/usr/local/lib/python2.7/dist-packages/nbconvert/preprocessors/tests/files/Skip Exceptions with Cell Tags.ipynb\n",
            "/usr/local/lib/python2.7/dist-packages/nbconvert/preprocessors/tests/files/Inline Image.ipynb\n",
            "/usr/local/lib/python2.7/dist-packages/nbconvert/preprocessors/tests/files/UnicodePy3.ipynb\n",
            "/usr/local/lib/python2.7/dist-packages/nbconvert/preprocessors/tests/files/update-display-id.ipynb\n",
            "/usr/local/lib/python2.7/dist-packages/nbconvert/preprocessors/tests/files/SVG.ipynb\n",
            "/usr/local/lib/python2.7/dist-packages/nbconvert/preprocessors/tests/files/Interrupt.ipynb\n",
            "/usr/local/lib/python2.7/dist-packages/nbconvert/preprocessors/tests/files/Skip Exceptions with Cell Tags-IPY6.ipynb\n",
            "/usr/local/lib/python2.7/dist-packages/nbconvert/preprocessors/tests/files/Unicode.ipynb\n",
            "/usr/local/lib/python2.7/dist-packages/nbconvert/preprocessors/tests/files/Empty Cell.ipynb\n",
            "/usr/local/lib/python2.7/dist-packages/nbconvert/preprocessors/tests/files/HelloWorld.ipynb\n",
            "/usr/local/lib/python2.7/dist-packages/nbconvert/preprocessors/tests/files/Skip Exceptions-IPY6.ipynb\n",
            "/usr/local/lib/python2.7/dist-packages/nbconvert/preprocessors/tests/files/Interrupt-IPY6.ipynb\n",
            "/usr/local/lib/python2.7/dist-packages/nbconvert/preprocessors/tests/files/Disable Stdin.ipynb\n",
            "/usr/local/lib/python2.7/dist-packages/tensor2tensor/visualization/TransformerVisualization.ipynb\n",
            "/usr/local/lib/python3.7/dist-packages/notebook/bundler/tests/resources/empty.ipynb\n",
            "/usr/local/lib/python3.7/dist-packages/holoviews/tests/ipython/notebooks/test_opts_image_cell_magic_offset.ipynb\n",
            "/usr/local/lib/python3.7/dist-packages/holoviews/tests/ipython/notebooks/test_opts_image_line_magic.ipynb\n",
            "/usr/local/lib/python3.7/dist-packages/holoviews/tests/ipython/notebooks/test_opts_image_cell_magic.ipynb\n",
            "/usr/local/lib/python3.7/dist-packages/holoviews/tests/ipython/notebooks/test_output_svg_line_magic.ipynb\n",
            "/usr/local/lib/python3.7/dist-packages/holoviews/examples/user_guide/02-Composing_Elements.ipynb\n",
            "/usr/local/lib/python3.7/dist-packages/holoviews/examples/user_guide/11-Transforming_Elements.ipynb\n",
            "/usr/local/lib/python3.7/dist-packages/holoviews/examples/user_guide/07-Live_Data.ipynb\n",
            "/usr/local/lib/python3.7/dist-packages/holoviews/examples/user_guide/Installing_and_Configuring.ipynb\n",
            "/usr/local/lib/python3.7/dist-packages/holoviews/examples/user_guide/Customizing_Plots.ipynb\n",
            "/usr/local/lib/python3.7/dist-packages/holoviews/examples/user_guide/Continuous_Coordinates.ipynb\n",
            "/usr/local/lib/python3.7/dist-packages/holoviews/examples/user_guide/Plots_and_Renderers.ipynb\n",
            "/usr/local/lib/python3.7/dist-packages/holoviews/examples/user_guide/12-Responding_to_Events.ipynb\n",
            "/usr/local/lib/python3.7/dist-packages/holoviews/examples/user_guide/13-Custom_Interactivity.ipynb\n",
            "/usr/local/lib/python3.7/dist-packages/holoviews/examples/user_guide/08-Tabular_Datasets.ipynb\n",
            "/usr/local/lib/python3.7/dist-packages/holoviews/examples/user_guide/06-Building_Composite_Objects.ipynb\n",
            "/usr/local/lib/python3.7/dist-packages/holoviews/examples/user_guide/03-Applying_Customizations.ipynb\n",
            "/usr/local/lib/python3.7/dist-packages/holoviews/examples/user_guide/16-Streaming_Data.ipynb\n",
            "/usr/local/lib/python3.7/dist-packages/holoviews/examples/user_guide/Plotting_with_Matplotlib.ipynb\n",
            "/usr/local/lib/python3.7/dist-packages/holoviews/examples/user_guide/Notebook_Magics.ipynb\n",
            "/usr/local/lib/python3.7/dist-packages/holoviews/examples/user_guide/Linked_Brushing.ipynb\n",
            "/usr/local/lib/python3.7/dist-packages/holoviews/examples/user_guide/Plotting_with_Bokeh.ipynb\n",
            "/usr/local/lib/python3.7/dist-packages/holoviews/examples/user_guide/Annotators.ipynb\n",
            "/usr/local/lib/python3.7/dist-packages/holoviews/examples/user_guide/Colormaps.ipynb\n",
            "/usr/local/lib/python3.7/dist-packages/holoviews/examples/user_guide/15-Large_Data.ipynb\n",
            "/usr/local/lib/python3.7/dist-packages/holoviews/examples/user_guide/10-Indexing_and_Selecting_Data.ipynb\n",
            "/usr/local/lib/python3.7/dist-packages/holoviews/examples/user_guide/Geometry_Data.ipynb\n",
            "/usr/local/lib/python3.7/dist-packages/holoviews/examples/user_guide/Deploying_Bokeh_Apps.ipynb\n",
            "/usr/local/lib/python3.7/dist-packages/holoviews/examples/user_guide/Network_Graphs.ipynb\n",
            "/usr/local/lib/python3.7/dist-packages/holoviews/examples/user_guide/05-Dimensioned_Containers.ipynb\n",
            "/usr/local/lib/python3.7/dist-packages/holoviews/examples/user_guide/01-Annotating_Data.ipynb\n",
            "/usr/local/lib/python3.7/dist-packages/holoviews/examples/user_guide/Linking_Plots.ipynb\n",
            "/usr/local/lib/python3.7/dist-packages/holoviews/examples/user_guide/14-Data_Pipelines.ipynb\n",
            "/usr/local/lib/python3.7/dist-packages/holoviews/examples/user_guide/Exporting_and_Archiving.ipynb\n",
            "/usr/local/lib/python3.7/dist-packages/holoviews/examples/user_guide/09-Gridded_Datasets.ipynb\n",
            "/usr/local/lib/python3.7/dist-packages/holoviews/examples/user_guide/17-Dashboards.ipynb\n",
            "/usr/local/lib/python3.7/dist-packages/holoviews/examples/user_guide/04-Style_Mapping.ipynb\n",
            "/usr/local/lib/python3.7/dist-packages/holoviews/examples/gallery/demos/bokeh/box_draw_roi_editor.ipynb\n",
            "/usr/local/lib/python3.7/dist-packages/holoviews/examples/gallery/demos/bokeh/lorenz_attractor_example.ipynb\n",
            "/usr/local/lib/python3.7/dist-packages/holoviews/examples/gallery/demos/bokeh/topographic_hillshading.ipynb\n",
            "/usr/local/lib/python3.7/dist-packages/holoviews/examples/gallery/demos/bokeh/nyc_radial_heatmap.ipynb\n",
            "/usr/local/lib/python3.7/dist-packages/holoviews/examples/gallery/demos/bokeh/us_unemployment.ipynb\n",
            "/usr/local/lib/python3.7/dist-packages/holoviews/examples/gallery/demos/bokeh/timeseries_range_tool.ipynb\n",
            "/usr/local/lib/python3.7/dist-packages/holoviews/examples/gallery/demos/bokeh/scatter_economic.ipynb\n",
            "/usr/local/lib/python3.7/dist-packages/holoviews/examples/gallery/demos/bokeh/boxplot_chart.ipynb\n",
            "/usr/local/lib/python3.7/dist-packages/holoviews/examples/gallery/demos/bokeh/texas_choropleth_example.ipynb\n",
            "/usr/local/lib/python3.7/dist-packages/holoviews/examples/gallery/demos/bokeh/measles_example.ipynb\n",
            "/usr/local/lib/python3.7/dist-packages/holoviews/examples/gallery/demos/bokeh/autompg_histogram.ipynb\n",
            "/usr/local/lib/python3.7/dist-packages/holoviews/examples/gallery/demos/bokeh/histogram_example.ipynb\n",
            "/usr/local/lib/python3.7/dist-packages/holoviews/examples/gallery/demos/bokeh/iris_example.ipynb\n",
            "/usr/local/lib/python3.7/dist-packages/holoviews/examples/gallery/demos/bokeh/emoji_tsne.ipynb\n",
            "/usr/local/lib/python3.7/dist-packages/holoviews/examples/gallery/demos/bokeh/point_draw_triangulate.ipynb\n",
            "/usr/local/lib/python3.7/dist-packages/holoviews/examples/gallery/demos/bokeh/energy_sankey.ipynb\n",
            "/usr/local/lib/python3.7/dist-packages/holoviews/examples/gallery/demos/bokeh/quiver_demo.ipynb\n",
            "/usr/local/lib/python3.7/dist-packages/holoviews/examples/gallery/demos/bokeh/irregular_quadmesh.ipynb\n",
            "/usr/local/lib/python3.7/dist-packages/holoviews/examples/gallery/demos/bokeh/dragon_curve.ipynb\n",
            "/usr/local/lib/python3.7/dist-packages/holoviews/examples/gallery/demos/bokeh/iris_density_grid.ipynb\n",
            "/usr/local/lib/python3.7/dist-packages/holoviews/examples/gallery/demos/bokeh/life_expectancy_split_violin.ipynb\n",
            "/usr/local/lib/python3.7/dist-packages/holoviews/examples/gallery/demos/bokeh/verhulst_mandelbrot.ipynb\n",
            "/usr/local/lib/python3.7/dist-packages/holoviews/examples/gallery/demos/bokeh/bars_economic.ipynb\n",
            "/usr/local/lib/python3.7/dist-packages/holoviews/examples/gallery/demos/bokeh/autompg_violins.ipynb\n",
            "/usr/local/lib/python3.7/dist-packages/holoviews/examples/gallery/demos/bokeh/area_chart.ipynb\n",
            "/usr/local/lib/python3.7/dist-packages/holoviews/examples/gallery/demos/bokeh/square_limit.ipynb\n",
            "/usr/local/lib/python3.7/dist-packages/holoviews/examples/gallery/demos/bokeh/image_range_tool.ipynb\n",
            "/usr/local/lib/python3.7/dist-packages/holoviews/examples/gallery/demos/bokeh/hextile_movie_ratings.ipynb\n",
            "/usr/local/lib/python3.7/dist-packages/holoviews/examples/gallery/demos/bokeh/iris_grouped_grid.ipynb\n",
            "/usr/local/lib/python3.7/dist-packages/holoviews/examples/gallery/demos/bokeh/route_chord.ipynb\n",
            "/usr/local/lib/python3.7/dist-packages/holoviews/examples/gallery/demos/bokeh/network_graph.ipynb\n",
            "/usr/local/lib/python3.7/dist-packages/holoviews/examples/gallery/demos/bokeh/iris_splom_example.ipynb\n",
            "/usr/local/lib/python3.7/dist-packages/holoviews/examples/gallery/demos/bokeh/lesmis_example.ipynb\n",
            "/usr/local/lib/python3.7/dist-packages/holoviews/examples/gallery/demos/bokeh/nyc_airport_connections.ipynb\n",
            "/usr/local/lib/python3.7/dist-packages/holoviews/examples/gallery/demos/bokeh/stocks_example.ipynb\n",
            "/usr/local/lib/python3.7/dist-packages/holoviews/examples/gallery/demos/bokeh/directed_airline_routes.ipynb\n",
            "/usr/local/lib/python3.7/dist-packages/holoviews/examples/gallery/demos/bokeh/dropdown_economic.ipynb\n",
            "/usr/local/lib/python3.7/dist-packages/holoviews/examples/gallery/demos/bokeh/dot_example.ipynb\n",
            "/usr/local/lib/python3.7/dist-packages/holoviews/examples/gallery/demos/bokeh/step_chart.ipynb\n",
            "/usr/local/lib/python3.7/dist-packages/holoviews/examples/gallery/demos/bokeh/choropleth_data_link.ipynb\n",
            "/usr/local/lib/python3.7/dist-packages/holoviews/examples/gallery/demos/bokeh/mandelbrot_section.ipynb\n",
            "/usr/local/lib/python3.7/dist-packages/holoviews/examples/gallery/demos/bokeh/legend_example.ipynb\n",
            "/usr/local/lib/python3.7/dist-packages/holoviews/examples/gallery/demos/bokeh/bachelors_degrees_by_gender.ipynb\n",
            "/usr/local/lib/python3.7/dist-packages/holoviews/examples/gallery/demos/matplotlib/lorenz_attractor_example.ipynb\n",
            "/usr/local/lib/python3.7/dist-packages/holoviews/examples/gallery/demos/matplotlib/topographic_hillshading.ipynb\n",
            "/usr/local/lib/python3.7/dist-packages/holoviews/examples/gallery/demos/matplotlib/nyc_radial_heatmap.ipynb\n",
            "/usr/local/lib/python3.7/dist-packages/holoviews/examples/gallery/demos/matplotlib/us_unemployment.ipynb\n",
            "/usr/local/lib/python3.7/dist-packages/holoviews/examples/gallery/demos/matplotlib/scatter_economic.ipynb\n",
            "/usr/local/lib/python3.7/dist-packages/holoviews/examples/gallery/demos/matplotlib/boxplot_chart.ipynb\n",
            "/usr/local/lib/python3.7/dist-packages/holoviews/examples/gallery/demos/matplotlib/texas_choropleth_example.ipynb\n",
            "/usr/local/lib/python3.7/dist-packages/holoviews/examples/gallery/demos/matplotlib/measles_example.ipynb\n",
            "/usr/local/lib/python3.7/dist-packages/holoviews/examples/gallery/demos/matplotlib/autompg_histogram.ipynb\n",
            "/usr/local/lib/python3.7/dist-packages/holoviews/examples/gallery/demos/matplotlib/histogram_example.ipynb\n",
            "/usr/local/lib/python3.7/dist-packages/holoviews/examples/gallery/demos/matplotlib/iris_example.ipynb\n",
            "/usr/local/lib/python3.7/dist-packages/holoviews/examples/gallery/demos/matplotlib/energy_sankey.ipynb\n",
            "/usr/local/lib/python3.7/dist-packages/holoviews/examples/gallery/demos/matplotlib/quiver_demo.ipynb\n",
            "/usr/local/lib/python3.7/dist-packages/holoviews/examples/gallery/demos/matplotlib/irregular_quadmesh.ipynb\n",
            "/usr/local/lib/python3.7/dist-packages/holoviews/examples/gallery/demos/matplotlib/dragon_curve.ipynb\n",
            "/usr/local/lib/python3.7/dist-packages/holoviews/examples/gallery/demos/matplotlib/iris_density_grid.ipynb\n",
            "/usr/local/lib/python3.7/dist-packages/holoviews/examples/gallery/demos/matplotlib/verhulst_mandelbrot.ipynb\n",
            "/usr/local/lib/python3.7/dist-packages/holoviews/examples/gallery/demos/matplotlib/bars_economic.ipynb\n",
            "/usr/local/lib/python3.7/dist-packages/holoviews/examples/gallery/demos/matplotlib/autompg_violins.ipynb\n",
            "/usr/local/lib/python3.7/dist-packages/holoviews/examples/gallery/demos/matplotlib/area_chart.ipynb\n",
            "/usr/local/lib/python3.7/dist-packages/holoviews/examples/gallery/demos/matplotlib/polar_scatter_demo.ipynb\n",
            "/usr/local/lib/python3.7/dist-packages/holoviews/examples/gallery/demos/matplotlib/square_limit.ipynb\n",
            "/usr/local/lib/python3.7/dist-packages/holoviews/examples/gallery/demos/matplotlib/hextile_movie_ratings.ipynb\n",
            "/usr/local/lib/python3.7/dist-packages/holoviews/examples/gallery/demos/matplotlib/iris_grouped_grid.ipynb\n",
            "/usr/local/lib/python3.7/dist-packages/holoviews/examples/gallery/demos/matplotlib/route_chord.ipynb\n",
            "/usr/local/lib/python3.7/dist-packages/holoviews/examples/gallery/demos/matplotlib/network_graph.ipynb\n",
            "/usr/local/lib/python3.7/dist-packages/holoviews/examples/gallery/demos/matplotlib/iris_splom_example.ipynb\n",
            "/usr/local/lib/python3.7/dist-packages/holoviews/examples/gallery/demos/matplotlib/nyc_airport_connections.ipynb\n",
            "/usr/local/lib/python3.7/dist-packages/holoviews/examples/gallery/demos/matplotlib/stocks_example.ipynb\n",
            "/usr/local/lib/python3.7/dist-packages/holoviews/examples/gallery/demos/matplotlib/directed_airline_routes.ipynb\n",
            "/usr/local/lib/python3.7/dist-packages/holoviews/examples/gallery/demos/matplotlib/dropdown_economic.ipynb\n",
            "/usr/local/lib/python3.7/dist-packages/holoviews/examples/gallery/demos/matplotlib/trisurf3d_demo.ipynb\n",
            "/usr/local/lib/python3.7/dist-packages/holoviews/examples/gallery/demos/matplotlib/step_chart.ipynb\n",
            "/usr/local/lib/python3.7/dist-packages/holoviews/examples/gallery/demos/matplotlib/mandelbrot_section.ipynb\n",
            "/usr/local/lib/python3.7/dist-packages/holoviews/examples/gallery/demos/matplotlib/legend_example.ipynb\n",
            "/usr/local/lib/python3.7/dist-packages/holoviews/examples/gallery/demos/matplotlib/surface_3d.ipynb\n",
            "/usr/local/lib/python3.7/dist-packages/holoviews/examples/gallery/demos/matplotlib/bachelors_degrees_by_gender.ipynb\n",
            "/usr/local/lib/python3.7/dist-packages/holoviews/examples/gallery/demos/plotly/trisurf3d_demo.ipynb\n",
            "/usr/local/lib/python3.7/dist-packages/holoviews/examples/gallery/demos/plotly/surface_3d.ipynb\n",
            "/usr/local/lib/python3.7/dist-packages/holoviews/examples/getting_started/2-Customization.ipynb\n",
            "/usr/local/lib/python3.7/dist-packages/holoviews/examples/getting_started/1-Introduction.ipynb\n",
            "/usr/local/lib/python3.7/dist-packages/holoviews/examples/getting_started/4-Gridded_Datasets.ipynb\n",
            "/usr/local/lib/python3.7/dist-packages/holoviews/examples/getting_started/3-Tabular_Datasets.ipynb\n",
            "/usr/local/lib/python3.7/dist-packages/holoviews/examples/getting_started/5-Live_Data.ipynb\n",
            "/usr/local/lib/python3.7/dist-packages/holoviews/examples/reference/features/bokeh/table_hooks_example.ipynb\n",
            "/usr/local/lib/python3.7/dist-packages/holoviews/examples/reference/streams/bokeh/PointerXY.ipynb\n",
            "/usr/local/lib/python3.7/dist-packages/holoviews/examples/reference/streams/bokeh/Selection1D.ipynb\n",
            "/usr/local/lib/python3.7/dist-packages/holoviews/examples/reference/streams/bokeh/Bounds.ipynb\n",
            "/usr/local/lib/python3.7/dist-packages/holoviews/examples/reference/streams/bokeh/BoundsY.ipynb\n",
            "/usr/local/lib/python3.7/dist-packages/holoviews/examples/reference/streams/bokeh/Selection1D_tap.ipynb\n",
            "/usr/local/lib/python3.7/dist-packages/holoviews/examples/reference/streams/bokeh/FreehandDraw.ipynb\n",
            "/usr/local/lib/python3.7/dist-packages/holoviews/examples/reference/streams/bokeh/PointerX.ipynb\n",
            "/usr/local/lib/python3.7/dist-packages/holoviews/examples/reference/streams/bokeh/CurveEdit.ipynb\n",
            "/usr/local/lib/python3.7/dist-packages/holoviews/examples/reference/streams/bokeh/BoxEdit.ipynb\n",
            "/usr/local/lib/python3.7/dist-packages/holoviews/examples/reference/streams/bokeh/RangeXY.ipynb\n",
            "/usr/local/lib/python3.7/dist-packages/holoviews/examples/reference/streams/bokeh/PolyEdit.ipynb\n",
            "/usr/local/lib/python3.7/dist-packages/holoviews/examples/reference/streams/bokeh/Selection1D_paired.ipynb\n",
            "/usr/local/lib/python3.7/dist-packages/holoviews/examples/reference/streams/bokeh/Selection1D_points.ipynb\n",
            "/usr/local/lib/python3.7/dist-packages/holoviews/examples/reference/streams/bokeh/PointDraw.ipynb\n",
            "/usr/local/lib/python3.7/dist-packages/holoviews/examples/reference/streams/bokeh/PolyDraw.ipynb\n",
            "/usr/local/lib/python3.7/dist-packages/holoviews/examples/reference/streams/bokeh/BoundsX.ipynb\n",
            "/usr/local/lib/python3.7/dist-packages/holoviews/examples/reference/streams/bokeh/Tap.ipynb\n",
            "/usr/local/lib/python3.7/dist-packages/holoviews/examples/reference/streams/plotly/Bounds.ipynb\n",
            "/usr/local/lib/python3.7/dist-packages/holoviews/examples/reference/streams/plotly/BoundsY.ipynb\n",
            "/usr/local/lib/python3.7/dist-packages/holoviews/examples/reference/streams/plotly/RangeXY.ipynb\n",
            "/usr/local/lib/python3.7/dist-packages/holoviews/examples/reference/streams/plotly/Selection1D_paired.ipynb\n",
            "/usr/local/lib/python3.7/dist-packages/holoviews/examples/reference/streams/plotly/Selection1D_points.ipynb\n",
            "/usr/local/lib/python3.7/dist-packages/holoviews/examples/reference/streams/plotly/BoundsX.ipynb\n",
            "/usr/local/lib/python3.7/dist-packages/holoviews/examples/reference/containers/bokeh/Overlay.ipynb\n",
            "/usr/local/lib/python3.7/dist-packages/holoviews/examples/reference/containers/bokeh/HoloMap.ipynb\n",
            "/usr/local/lib/python3.7/dist-packages/holoviews/examples/reference/containers/bokeh/NdLayout.ipynb\n",
            "/usr/local/lib/python3.7/dist-packages/holoviews/examples/reference/containers/bokeh/DynamicMap.ipynb\n",
            "/usr/local/lib/python3.7/dist-packages/holoviews/examples/reference/containers/bokeh/NdOverlay.ipynb\n",
            "/usr/local/lib/python3.7/dist-packages/holoviews/examples/reference/containers/bokeh/GridSpace.ipynb\n",
            "/usr/local/lib/python3.7/dist-packages/holoviews/examples/reference/containers/bokeh/Layout.ipynb\n",
            "/usr/local/lib/python3.7/dist-packages/holoviews/examples/reference/containers/matplotlib/Overlay.ipynb\n",
            "/usr/local/lib/python3.7/dist-packages/holoviews/examples/reference/containers/matplotlib/HoloMap.ipynb\n",
            "/usr/local/lib/python3.7/dist-packages/holoviews/examples/reference/containers/matplotlib/NdLayout.ipynb\n",
            "/usr/local/lib/python3.7/dist-packages/holoviews/examples/reference/containers/matplotlib/DynamicMap.ipynb\n",
            "/usr/local/lib/python3.7/dist-packages/holoviews/examples/reference/containers/matplotlib/NdOverlay.ipynb\n",
            "/usr/local/lib/python3.7/dist-packages/holoviews/examples/reference/containers/matplotlib/GridSpace.ipynb\n",
            "/usr/local/lib/python3.7/dist-packages/holoviews/examples/reference/containers/matplotlib/Layout.ipynb\n",
            "/usr/local/lib/python3.7/dist-packages/holoviews/examples/reference/containers/plotly/Overlay.ipynb\n",
            "/usr/local/lib/python3.7/dist-packages/holoviews/examples/reference/containers/plotly/HoloMap.ipynb\n",
            "/usr/local/lib/python3.7/dist-packages/holoviews/examples/reference/containers/plotly/NdLayout.ipynb\n",
            "/usr/local/lib/python3.7/dist-packages/holoviews/examples/reference/containers/plotly/DynamicMap.ipynb\n",
            "/usr/local/lib/python3.7/dist-packages/holoviews/examples/reference/containers/plotly/NdOverlay.ipynb\n",
            "/usr/local/lib/python3.7/dist-packages/holoviews/examples/reference/containers/plotly/GridSpace.ipynb\n",
            "/usr/local/lib/python3.7/dist-packages/holoviews/examples/reference/containers/plotly/Layout.ipynb\n",
            "/usr/local/lib/python3.7/dist-packages/holoviews/examples/reference/elements/bokeh/ErrorBars.ipynb\n",
            "/usr/local/lib/python3.7/dist-packages/holoviews/examples/reference/elements/bokeh/Path.ipynb\n",
            "/usr/local/lib/python3.7/dist-packages/holoviews/examples/reference/elements/bokeh/HSV.ipynb\n",
            "/usr/local/lib/python3.7/dist-packages/holoviews/examples/reference/elements/bokeh/Rectangles.ipynb\n",
            "/usr/local/lib/python3.7/dist-packages/holoviews/examples/reference/elements/bokeh/Bounds.ipynb\n",
            "/usr/local/lib/python3.7/dist-packages/holoviews/examples/reference/elements/bokeh/Graph.ipynb\n",
            "/usr/local/lib/python3.7/dist-packages/holoviews/examples/reference/elements/bokeh/Tiles.ipynb\n",
            "/usr/local/lib/python3.7/dist-packages/holoviews/examples/reference/elements/bokeh/Area.ipynb\n",
            "/usr/local/lib/python3.7/dist-packages/holoviews/examples/reference/elements/bokeh/ItemTable.ipynb\n",
            "/usr/local/lib/python3.7/dist-packages/holoviews/examples/reference/elements/bokeh/Div.ipynb\n",
            "/usr/local/lib/python3.7/dist-packages/holoviews/examples/reference/elements/bokeh/Polygons.ipynb\n",
            "/usr/local/lib/python3.7/dist-packages/holoviews/examples/reference/elements/bokeh/Distribution.ipynb\n",
            "/usr/local/lib/python3.7/dist-packages/holoviews/examples/reference/elements/bokeh/Spikes.ipynb\n",
            "/usr/local/lib/python3.7/dist-packages/holoviews/examples/reference/elements/bokeh/Curve.ipynb\n",
            "/usr/local/lib/python3.7/dist-packages/holoviews/examples/reference/elements/bokeh/Text.ipynb\n",
            "/usr/local/lib/python3.7/dist-packages/holoviews/examples/reference/elements/bokeh/Scatter.ipynb\n",
            "/usr/local/lib/python3.7/dist-packages/holoviews/examples/reference/elements/bokeh/Labels.ipynb\n",
            "/usr/local/lib/python3.7/dist-packages/holoviews/examples/reference/elements/bokeh/Spread.ipynb\n",
            "/usr/local/lib/python3.7/dist-packages/holoviews/examples/reference/elements/bokeh/RadialHeatMap.ipynb\n",
            "/usr/local/lib/python3.7/dist-packages/holoviews/examples/reference/elements/bokeh/VLine.ipynb\n",
            "/usr/local/lib/python3.7/dist-packages/holoviews/examples/reference/elements/bokeh/BoxWhisker.ipynb\n",
            "/usr/local/lib/python3.7/dist-packages/holoviews/examples/reference/elements/bokeh/HSpan.ipynb\n",
            "/usr/local/lib/python3.7/dist-packages/holoviews/examples/reference/elements/bokeh/Spline.ipynb\n",
            "/usr/local/lib/python3.7/dist-packages/holoviews/examples/reference/elements/bokeh/Image.ipynb\n",
            "/usr/local/lib/python3.7/dist-packages/holoviews/examples/reference/elements/bokeh/Table.ipynb\n",
            "/usr/local/lib/python3.7/dist-packages/holoviews/examples/reference/elements/bokeh/Raster.ipynb\n",
            "/usr/local/lib/python3.7/dist-packages/holoviews/examples/reference/elements/bokeh/RGB.ipynb\n",
            "/usr/local/lib/python3.7/dist-packages/holoviews/examples/reference/elements/bokeh/Histogram.ipynb\n",
            "/usr/local/lib/python3.7/dist-packages/holoviews/examples/reference/elements/bokeh/Box.ipynb\n",
            "/usr/local/lib/python3.7/dist-packages/holoviews/examples/reference/elements/bokeh/Slope.ipynb\n",
            "/usr/local/lib/python3.7/dist-packages/holoviews/examples/reference/elements/bokeh/Ellipse.ipynb\n",
            "/usr/local/lib/python3.7/dist-packages/holoviews/examples/reference/elements/bokeh/QuadMesh.ipynb\n",
            "/usr/local/lib/python3.7/dist-packages/holoviews/examples/reference/elements/bokeh/VectorField.ipynb\n",
            "/usr/local/lib/python3.7/dist-packages/holoviews/examples/reference/elements/bokeh/Segments.ipynb\n",
            "/usr/local/lib/python3.7/dist-packages/holoviews/examples/reference/elements/bokeh/HexTiles.ipynb\n",
            "/usr/local/lib/python3.7/dist-packages/holoviews/examples/reference/elements/bokeh/Bars.ipynb\n",
            "/usr/local/lib/python3.7/dist-packages/holoviews/examples/reference/elements/bokeh/Bivariate.ipynb\n",
            "/usr/local/lib/python3.7/dist-packages/holoviews/examples/reference/elements/bokeh/Violin.ipynb\n",
            "/usr/local/lib/python3.7/dist-packages/holoviews/examples/reference/elements/bokeh/Sankey.ipynb\n",
            "/usr/local/lib/python3.7/dist-packages/holoviews/examples/reference/elements/bokeh/HeatMap.ipynb\n",
            "/usr/local/lib/python3.7/dist-packages/holoviews/examples/reference/elements/bokeh/HLine.ipynb\n",
            "/usr/local/lib/python3.7/dist-packages/holoviews/examples/reference/elements/bokeh/TriMesh.ipynb\n",
            "/usr/local/lib/python3.7/dist-packages/holoviews/examples/reference/elements/bokeh/VSpan.ipynb\n",
            "/usr/local/lib/python3.7/dist-packages/holoviews/examples/reference/elements/bokeh/Points.ipynb\n",
            "/usr/local/lib/python3.7/dist-packages/holoviews/examples/reference/elements/bokeh/Arrow.ipynb\n",
            "/usr/local/lib/python3.7/dist-packages/holoviews/examples/reference/elements/bokeh/Contours.ipynb\n",
            "/usr/local/lib/python3.7/dist-packages/holoviews/examples/reference/elements/bokeh/Chord.ipynb\n",
            "/usr/local/lib/python3.7/dist-packages/holoviews/examples/reference/elements/matplotlib/ErrorBars.ipynb\n",
            "/usr/local/lib/python3.7/dist-packages/holoviews/examples/reference/elements/matplotlib/Path.ipynb\n",
            "/usr/local/lib/python3.7/dist-packages/holoviews/examples/reference/elements/matplotlib/HSV.ipynb\n",
            "/usr/local/lib/python3.7/dist-packages/holoviews/examples/reference/elements/matplotlib/Rectangles.ipynb\n",
            "/usr/local/lib/python3.7/dist-packages/holoviews/examples/reference/elements/matplotlib/Bounds.ipynb\n",
            "/usr/local/lib/python3.7/dist-packages/holoviews/examples/reference/elements/matplotlib/Graph.ipynb\n",
            "/usr/local/lib/python3.7/dist-packages/holoviews/examples/reference/elements/matplotlib/Area.ipynb\n",
            "/usr/local/lib/python3.7/dist-packages/holoviews/examples/reference/elements/matplotlib/ItemTable.ipynb\n",
            "/usr/local/lib/python3.7/dist-packages/holoviews/examples/reference/elements/matplotlib/Polygons.ipynb\n",
            "/usr/local/lib/python3.7/dist-packages/holoviews/examples/reference/elements/matplotlib/Scatter3D.ipynb\n",
            "/usr/local/lib/python3.7/dist-packages/holoviews/examples/reference/elements/matplotlib/Distribution.ipynb\n",
            "/usr/local/lib/python3.7/dist-packages/holoviews/examples/reference/elements/matplotlib/Spikes.ipynb\n",
            "/usr/local/lib/python3.7/dist-packages/holoviews/examples/reference/elements/matplotlib/Curve.ipynb\n",
            "/usr/local/lib/python3.7/dist-packages/holoviews/examples/reference/elements/matplotlib/Text.ipynb\n",
            "/usr/local/lib/python3.7/dist-packages/holoviews/examples/reference/elements/matplotlib/Scatter.ipynb\n",
            "/usr/local/lib/python3.7/dist-packages/holoviews/examples/reference/elements/matplotlib/Path3D.ipynb\n",
            "/usr/local/lib/python3.7/dist-packages/holoviews/examples/reference/elements/matplotlib/Labels.ipynb\n",
            "/usr/local/lib/python3.7/dist-packages/holoviews/examples/reference/elements/matplotlib/Spread.ipynb\n",
            "/usr/local/lib/python3.7/dist-packages/holoviews/examples/reference/elements/matplotlib/RadialHeatMap.ipynb\n",
            "/usr/local/lib/python3.7/dist-packages/holoviews/examples/reference/elements/matplotlib/VLine.ipynb\n",
            "/usr/local/lib/python3.7/dist-packages/holoviews/examples/reference/elements/matplotlib/BoxWhisker.ipynb\n",
            "/usr/local/lib/python3.7/dist-packages/holoviews/examples/reference/elements/matplotlib/HSpan.ipynb\n",
            "/usr/local/lib/python3.7/dist-packages/holoviews/examples/reference/elements/matplotlib/Spline.ipynb\n",
            "/usr/local/lib/python3.7/dist-packages/holoviews/examples/reference/elements/matplotlib/Image.ipynb\n",
            "/usr/local/lib/python3.7/dist-packages/holoviews/examples/reference/elements/matplotlib/Table.ipynb\n",
            "/usr/local/lib/python3.7/dist-packages/holoviews/examples/reference/elements/matplotlib/Raster.ipynb\n",
            "/usr/local/lib/python3.7/dist-packages/holoviews/examples/reference/elements/matplotlib/RGB.ipynb\n",
            "/usr/local/lib/python3.7/dist-packages/holoviews/examples/reference/elements/matplotlib/Histogram.ipynb\n",
            "/usr/local/lib/python3.7/dist-packages/holoviews/examples/reference/elements/matplotlib/Box.ipynb\n",
            "/usr/local/lib/python3.7/dist-packages/holoviews/examples/reference/elements/matplotlib/Slope.ipynb\n",
            "/usr/local/lib/python3.7/dist-packages/holoviews/examples/reference/elements/matplotlib/Ellipse.ipynb\n",
            "/usr/local/lib/python3.7/dist-packages/holoviews/examples/reference/elements/matplotlib/QuadMesh.ipynb\n",
            "/usr/local/lib/python3.7/dist-packages/holoviews/examples/reference/elements/matplotlib/VectorField.ipynb\n",
            "/usr/local/lib/python3.7/dist-packages/holoviews/examples/reference/elements/matplotlib/Segments.ipynb\n",
            "/usr/local/lib/python3.7/dist-packages/holoviews/examples/reference/elements/matplotlib/HexTiles.ipynb\n",
            "/usr/local/lib/python3.7/dist-packages/holoviews/examples/reference/elements/matplotlib/Bars.ipynb\n",
            "/usr/local/lib/python3.7/dist-packages/holoviews/examples/reference/elements/matplotlib/Bivariate.ipynb\n",
            "/usr/local/lib/python3.7/dist-packages/holoviews/examples/reference/elements/matplotlib/Surface.ipynb\n",
            "/usr/local/lib/python3.7/dist-packages/holoviews/examples/reference/elements/matplotlib/Violin.ipynb\n",
            "/usr/local/lib/python3.7/dist-packages/holoviews/examples/reference/elements/matplotlib/Sankey.ipynb\n",
            "/usr/local/lib/python3.7/dist-packages/holoviews/examples/reference/elements/matplotlib/HeatMap.ipynb\n",
            "/usr/local/lib/python3.7/dist-packages/holoviews/examples/reference/elements/matplotlib/HLine.ipynb\n",
            "/usr/local/lib/python3.7/dist-packages/holoviews/examples/reference/elements/matplotlib/TriMesh.ipynb\n",
            "/usr/local/lib/python3.7/dist-packages/holoviews/examples/reference/elements/matplotlib/VSpan.ipynb\n",
            "/usr/local/lib/python3.7/dist-packages/holoviews/examples/reference/elements/matplotlib/Points.ipynb\n",
            "/usr/local/lib/python3.7/dist-packages/holoviews/examples/reference/elements/matplotlib/TriSurface.ipynb\n",
            "/usr/local/lib/python3.7/dist-packages/holoviews/examples/reference/elements/matplotlib/Arrow.ipynb\n",
            "/usr/local/lib/python3.7/dist-packages/holoviews/examples/reference/elements/matplotlib/Contours.ipynb\n",
            "/usr/local/lib/python3.7/dist-packages/holoviews/examples/reference/elements/matplotlib/Chord.ipynb\n",
            "/usr/local/lib/python3.7/dist-packages/holoviews/examples/reference/elements/plotly/ErrorBars.ipynb\n",
            "/usr/local/lib/python3.7/dist-packages/holoviews/examples/reference/elements/plotly/Bounds.ipynb\n",
            "/usr/local/lib/python3.7/dist-packages/holoviews/examples/reference/elements/plotly/Tiles.ipynb\n",
            "/usr/local/lib/python3.7/dist-packages/holoviews/examples/reference/elements/plotly/Area.ipynb\n",
            "/usr/local/lib/python3.7/dist-packages/holoviews/examples/reference/elements/plotly/ItemTable.ipynb\n",
            "/usr/local/lib/python3.7/dist-packages/holoviews/examples/reference/elements/plotly/Scatter3D.ipynb\n",
            "/usr/local/lib/python3.7/dist-packages/holoviews/examples/reference/elements/plotly/Distribution.ipynb\n",
            "/usr/local/lib/python3.7/dist-packages/holoviews/examples/reference/elements/plotly/Curve.ipynb\n",
            "/usr/local/lib/python3.7/dist-packages/holoviews/examples/reference/elements/plotly/Scatter.ipynb\n",
            "/usr/local/lib/python3.7/dist-packages/holoviews/examples/reference/elements/plotly/Path3D.ipynb\n",
            "/usr/local/lib/python3.7/dist-packages/holoviews/examples/reference/elements/plotly/Spread.ipynb\n",
            "/usr/local/lib/python3.7/dist-packages/holoviews/examples/reference/elements/plotly/VLine.ipynb\n",
            "/usr/local/lib/python3.7/dist-packages/holoviews/examples/reference/elements/plotly/BoxWhisker.ipynb\n",
            "/usr/local/lib/python3.7/dist-packages/holoviews/examples/reference/elements/plotly/HSpan.ipynb\n",
            "/usr/local/lib/python3.7/dist-packages/holoviews/examples/reference/elements/plotly/Image.ipynb\n",
            "/usr/local/lib/python3.7/dist-packages/holoviews/examples/reference/elements/plotly/Table.ipynb\n",
            "/usr/local/lib/python3.7/dist-packages/holoviews/examples/reference/elements/plotly/Raster.ipynb\n",
            "/usr/local/lib/python3.7/dist-packages/holoviews/examples/reference/elements/plotly/RGB.ipynb\n",
            "/usr/local/lib/python3.7/dist-packages/holoviews/examples/reference/elements/plotly/Histogram.ipynb\n",
            "/usr/local/lib/python3.7/dist-packages/holoviews/examples/reference/elements/plotly/Box.ipynb\n",
            "/usr/local/lib/python3.7/dist-packages/holoviews/examples/reference/elements/plotly/Ellipse.ipynb\n",
            "/usr/local/lib/python3.7/dist-packages/holoviews/examples/reference/elements/plotly/Bars.ipynb\n",
            "/usr/local/lib/python3.7/dist-packages/holoviews/examples/reference/elements/plotly/Surface.ipynb\n",
            "/usr/local/lib/python3.7/dist-packages/holoviews/examples/reference/elements/plotly/Violin.ipynb\n",
            "/usr/local/lib/python3.7/dist-packages/holoviews/examples/reference/elements/plotly/HeatMap.ipynb\n",
            "/usr/local/lib/python3.7/dist-packages/holoviews/examples/reference/elements/plotly/HLine.ipynb\n",
            "/usr/local/lib/python3.7/dist-packages/holoviews/examples/reference/elements/plotly/VSpan.ipynb\n",
            "/usr/local/lib/python3.7/dist-packages/holoviews/examples/reference/elements/plotly/Points.ipynb\n",
            "/usr/local/lib/python3.7/dist-packages/holoviews/examples/reference/elements/plotly/TriSurface.ipynb\n",
            "/usr/local/lib/python3.7/dist-packages/nbformat/tests/test4.ipynb\n",
            "/usr/local/lib/python3.7/dist-packages/nbformat/tests/test4jupyter_metadata_timings.ipynb\n",
            "/usr/local/lib/python3.7/dist-packages/nbformat/tests/test3.ipynb\n",
            "/usr/local/lib/python3.7/dist-packages/nbformat/tests/invalid_cell_id.ipynb\n",
            "/usr/local/lib/python3.7/dist-packages/nbformat/tests/invalid.ipynb\n",
            "/usr/local/lib/python3.7/dist-packages/nbformat/tests/test4plus.ipynb\n",
            "/usr/local/lib/python3.7/dist-packages/nbformat/tests/test4jupyter_metadata.ipynb\n",
            "/usr/local/lib/python3.7/dist-packages/nbformat/tests/test2.ipynb\n",
            "/usr/local/lib/python3.7/dist-packages/nbformat/tests/invalid_unique_cell_id.ipynb\n",
            "/usr/local/lib/python3.7/dist-packages/nbformat/tests/many_tracebacks.ipynb\n",
            "/usr/local/lib/python3.7/dist-packages/nbformat/tests/test4docinfo.ipynb\n",
            "/usr/local/lib/python3.7/dist-packages/nbformat/tests/test4custom.ipynb\n",
            "/usr/local/lib/python3.7/dist-packages/panel/examples/user_guide/Django_Apps.ipynb\n",
            "/usr/local/lib/python3.7/dist-packages/panel/examples/user_guide/Async_and_Concurrency.ipynb\n",
            "/usr/local/lib/python3.7/dist-packages/panel/examples/user_guide/Param.ipynb\n",
            "/usr/local/lib/python3.7/dist-packages/panel/examples/user_guide/Custom_Components.ipynb\n",
            "/usr/local/lib/python3.7/dist-packages/panel/examples/user_guide/Links.ipynb\n",
            "/usr/local/lib/python3.7/dist-packages/panel/examples/user_guide/Components.ipynb\n",
            "/usr/local/lib/python3.7/dist-packages/panel/examples/user_guide/Templates.ipynb\n",
            "/usr/local/lib/python3.7/dist-packages/panel/examples/user_guide/Deploy_and_Export.ipynb\n",
            "/usr/local/lib/python3.7/dist-packages/panel/examples/user_guide/Widgets.ipynb\n",
            "/usr/local/lib/python3.7/dist-packages/panel/examples/user_guide/Pipelines.ipynb\n",
            "/usr/local/lib/python3.7/dist-packages/panel/examples/user_guide/Overview.ipynb\n",
            "/usr/local/lib/python3.7/dist-packages/panel/examples/user_guide/Customization.ipynb\n",
            "/usr/local/lib/python3.7/dist-packages/panel/examples/user_guide/Authentication.ipynb\n",
            "/usr/local/lib/python3.7/dist-packages/panel/examples/user_guide/Interact.ipynb\n",
            "/usr/local/lib/python3.7/dist-packages/panel/examples/user_guide/APIs.ipynb\n",
            "/usr/local/lib/python3.7/dist-packages/panel/examples/user_guide/Server_Deployment.ipynb\n",
            "/usr/local/lib/python3.7/dist-packages/panel/examples/gallery/components/MaterialUI.ipynb\n",
            "/usr/local/lib/python3.7/dist-packages/panel/examples/gallery/components/LeafletHeatMap.ipynb\n",
            "/usr/local/lib/python3.7/dist-packages/panel/examples/gallery/components/CanvasDraw.ipynb\n",
            "/usr/local/lib/python3.7/dist-packages/panel/examples/gallery/external/Folium.ipynb\n",
            "/usr/local/lib/python3.7/dist-packages/panel/examples/gallery/external/deck.gl.ipynb\n",
            "/usr/local/lib/python3.7/dist-packages/panel/examples/gallery/external/DataTable.ipynb\n",
            "/usr/local/lib/python3.7/dist-packages/panel/examples/gallery/dynamic/dynamic_timeseries_image_analysis.ipynb\n",
            "/usr/local/lib/python3.7/dist-packages/panel/examples/gallery/dynamic/dynamic_widget_values.ipynb\n",
            "/usr/local/lib/python3.7/dist-packages/panel/examples/gallery/dynamic/dynamic_plot_layout.ipynb\n",
            "/usr/local/lib/python3.7/dist-packages/panel/examples/gallery/dynamic/dynamic_ui.ipynb\n",
            "/usr/local/lib/python3.7/dist-packages/panel/examples/gallery/apis/stocks_matplotlib.ipynb\n",
            "/usr/local/lib/python3.7/dist-packages/panel/examples/gallery/apis/stocks_hvplot.ipynb\n",
            "/usr/local/lib/python3.7/dist-packages/panel/examples/gallery/apis/stocks_altair.ipynb\n",
            "/usr/local/lib/python3.7/dist-packages/panel/examples/gallery/apis/stocks_plotly.ipynb\n",
            "/usr/local/lib/python3.7/dist-packages/panel/examples/gallery/simple/sync_location.ipynb\n",
            "/usr/local/lib/python3.7/dist-packages/panel/examples/gallery/simple/altair_choropleth.ipynb\n",
            "/usr/local/lib/python3.7/dist-packages/panel/examples/gallery/simple/temperature_distribution.ipynb\n",
            "/usr/local/lib/python3.7/dist-packages/panel/examples/gallery/simple/defer_data_load.ipynb\n",
            "/usr/local/lib/python3.7/dist-packages/panel/examples/gallery/simple/loading_spinner.ipynb\n",
            "/usr/local/lib/python3.7/dist-packages/panel/examples/gallery/simple/save_filtered_df.ipynb\n",
            "/usr/local/lib/python3.7/dist-packages/panel/examples/gallery/simple/random_number_generator.ipynb\n",
            "/usr/local/lib/python3.7/dist-packages/panel/examples/gallery/simple/deckgl_game_of_life.ipynb\n",
            "/usr/local/lib/python3.7/dist-packages/panel/examples/gallery/simple/color_speech_recognition.ipynb\n",
            "/usr/local/lib/python3.7/dist-packages/panel/examples/gallery/simple/file_download_examples.ipynb\n",
            "/usr/local/lib/python3.7/dist-packages/panel/examples/gallery/simple/clifford_interact.ipynb\n",
            "/usr/local/lib/python3.7/dist-packages/panel/examples/gallery/simple/iris_kmeans.ipynb\n",
            "/usr/local/lib/python3.7/dist-packages/panel/examples/gallery/links/deck_gl_json_editor.ipynb\n",
            "/usr/local/lib/python3.7/dist-packages/panel/examples/gallery/links/holoviews_glyph_link.ipynb\n",
            "/usr/local/lib/python3.7/dist-packages/panel/examples/gallery/links/bokeh_property_editor.ipynb\n",
            "/usr/local/lib/python3.7/dist-packages/panel/examples/gallery/links/plotly_link.ipynb\n",
            "/usr/local/lib/python3.7/dist-packages/panel/examples/gallery/links/vega_heatmap_link.ipynb\n",
            "/usr/local/lib/python3.7/dist-packages/panel/examples/gallery/demos/attractors.ipynb\n",
            "/usr/local/lib/python3.7/dist-packages/panel/examples/gallery/demos/gapminders.ipynb\n",
            "/usr/local/lib/python3.7/dist-packages/panel/examples/gallery/demos/glaciers.ipynb\n",
            "/usr/local/lib/python3.7/dist-packages/panel/examples/gallery/demos/VTKInteractive.ipynb\n",
            "/usr/local/lib/python3.7/dist-packages/panel/examples/gallery/demos/VTKSlicer.ipynb\n",
            "/usr/local/lib/python3.7/dist-packages/panel/examples/gallery/demos/nyc_taxi.ipynb\n",
            "/usr/local/lib/python3.7/dist-packages/panel/examples/gallery/demos/VTKWarp.ipynb\n",
            "/usr/local/lib/python3.7/dist-packages/panel/examples/gallery/demos/portfolio-optimizer.ipynb\n",
            "/usr/local/lib/python3.7/dist-packages/panel/examples/gallery/templates/material_template.ipynb\n",
            "/usr/local/lib/python3.7/dist-packages/panel/examples/gallery/layout/distribution_tabs.ipynb\n",
            "/usr/local/lib/python3.7/dist-packages/panel/examples/gallery/layout/plot_with_columns.ipynb\n",
            "/usr/local/lib/python3.7/dist-packages/panel/examples/gallery/layout/dynamic_tabs.ipynb\n",
            "/usr/local/lib/python3.7/dist-packages/panel/examples/gallery/streaming/streaming_indicator.ipynb\n",
            "/usr/local/lib/python3.7/dist-packages/panel/examples/gallery/streaming/streaming_tabulator.ipynb\n",
            "/usr/local/lib/python3.7/dist-packages/panel/examples/gallery/streaming/streaming_bokeh.ipynb\n",
            "/usr/local/lib/python3.7/dist-packages/panel/examples/gallery/streaming/hardware_automation.ipynb\n",
            "/usr/local/lib/python3.7/dist-packages/panel/examples/gallery/streaming/streaming_perspective.ipynb\n",
            "/usr/local/lib/python3.7/dist-packages/panel/examples/gallery/param/param_subobjects.ipynb\n",
            "/usr/local/lib/python3.7/dist-packages/panel/examples/gallery/param/precedence.ipynb\n",
            "/usr/local/lib/python3.7/dist-packages/panel/examples/gallery/param/download_upload_csv.ipynb\n",
            "/usr/local/lib/python3.7/dist-packages/panel/examples/gallery/param/reactive_plots.ipynb\n",
            "/usr/local/lib/python3.7/dist-packages/panel/examples/gallery/param/reactive_tables.ipynb\n",
            "/usr/local/lib/python3.7/dist-packages/panel/examples/gallery/param/deck_gl_global_power_plants.ipynb\n",
            "/usr/local/lib/python3.7/dist-packages/panel/examples/gallery/param/loading_indicator.ipynb\n",
            "/usr/local/lib/python3.7/dist-packages/panel/examples/gallery/param/action_button.ipynb\n",
            "/usr/local/lib/python3.7/dist-packages/panel/examples/developer_guide/DevelopingCustomModels.ipynb\n",
            "/usr/local/lib/python3.7/dist-packages/panel/examples/getting_started/Introduction.ipynb\n",
            "/usr/local/lib/python3.7/dist-packages/panel/examples/reference/indicators/Dial.ipynb\n",
            "/usr/local/lib/python3.7/dist-packages/panel/examples/reference/indicators/Number.ipynb\n",
            "/usr/local/lib/python3.7/dist-packages/panel/examples/reference/indicators/Tqdm.ipynb\n",
            "/usr/local/lib/python3.7/dist-packages/panel/examples/reference/indicators/Trend.ipynb\n",
            "/usr/local/lib/python3.7/dist-packages/panel/examples/reference/indicators/BooleanStatus.ipynb\n",
            "/usr/local/lib/python3.7/dist-packages/panel/examples/reference/indicators/Progress.ipynb\n",
            "/usr/local/lib/python3.7/dist-packages/panel/examples/reference/indicators/LoadingSpinner.ipynb\n",
            "/usr/local/lib/python3.7/dist-packages/panel/examples/reference/indicators/Gauge.ipynb\n",
            "/usr/local/lib/python3.7/dist-packages/panel/examples/reference/panes/PDF.ipynb\n",
            "/usr/local/lib/python3.7/dist-packages/panel/examples/reference/panes/HTML.ipynb\n",
            "/usr/local/lib/python3.7/dist-packages/panel/examples/reference/panes/Markdown.ipynb\n",
            "/usr/local/lib/python3.7/dist-packages/panel/examples/reference/panes/Video.ipynb\n",
            "/usr/local/lib/python3.7/dist-packages/panel/examples/reference/panes/PNG.ipynb\n",
            "/usr/local/lib/python3.7/dist-packages/panel/examples/reference/panes/JSON.ipynb\n",
            "/usr/local/lib/python3.7/dist-packages/panel/examples/reference/panes/VTKJS.ipynb\n",
            "/usr/local/lib/python3.7/dist-packages/panel/examples/reference/panes/Param.ipynb\n",
            "/usr/local/lib/python3.7/dist-packages/panel/examples/reference/panes/JPG.ipynb\n",
            "/usr/local/lib/python3.7/dist-packages/panel/examples/reference/panes/Bokeh.ipynb\n",
            "/usr/local/lib/python3.7/dist-packages/panel/examples/reference/panes/Vega.ipynb\n",
            "/usr/local/lib/python3.7/dist-packages/panel/examples/reference/panes/IPyWidget.ipynb\n",
            "/usr/local/lib/python3.7/dist-packages/panel/examples/reference/panes/DeckGL.ipynb\n",
            "/usr/local/lib/python3.7/dist-packages/panel/examples/reference/panes/GIF.ipynb\n",
            "/usr/local/lib/python3.7/dist-packages/panel/examples/reference/panes/DataFrame.ipynb\n",
            "/usr/local/lib/python3.7/dist-packages/panel/examples/reference/panes/SVG.ipynb\n",
            "/usr/local/lib/python3.7/dist-packages/panel/examples/reference/panes/Audio.ipynb\n",
            "/usr/local/lib/python3.7/dist-packages/panel/examples/reference/panes/Perspective.ipynb\n",
            "/usr/local/lib/python3.7/dist-packages/panel/examples/reference/panes/LaTeX.ipynb\n",
            "/usr/local/lib/python3.7/dist-packages/panel/examples/reference/panes/Str.ipynb\n",
            "/usr/local/lib/python3.7/dist-packages/panel/examples/reference/panes/Matplotlib.ipynb\n",
            "/usr/local/lib/python3.7/dist-packages/panel/examples/reference/panes/VTKVolume.ipynb\n",
            "/usr/local/lib/python3.7/dist-packages/panel/examples/reference/panes/Alert.ipynb\n",
            "/usr/local/lib/python3.7/dist-packages/panel/examples/reference/panes/HoloViews.ipynb\n",
            "/usr/local/lib/python3.7/dist-packages/panel/examples/reference/panes/VTK.ipynb\n",
            "/usr/local/lib/python3.7/dist-packages/panel/examples/reference/panes/Streamz.ipynb\n",
            "/usr/local/lib/python3.7/dist-packages/panel/examples/reference/panes/Plotly.ipynb\n",
            "/usr/local/lib/python3.7/dist-packages/panel/examples/reference/panes/ECharts.ipynb\n",
            "/usr/local/lib/python3.7/dist-packages/panel/examples/reference/panes/IDOM.ipynb\n",
            "/usr/local/lib/python3.7/dist-packages/panel/examples/reference/widgets/DateRangeSlider.ipynb\n",
            "/usr/local/lib/python3.7/dist-packages/panel/examples/reference/widgets/DatetimePicker.ipynb\n",
            "/usr/local/lib/python3.7/dist-packages/panel/examples/reference/widgets/EditableRangeSlider.ipynb\n",
            "/usr/local/lib/python3.7/dist-packages/panel/examples/reference/widgets/VideoStream.ipynb\n",
            "/usr/local/lib/python3.7/dist-packages/panel/examples/reference/widgets/DatetimeRangePicker.ipynb\n",
            "/usr/local/lib/python3.7/dist-packages/panel/examples/reference/widgets/CrossSelector.ipynb\n",
            "/usr/local/lib/python3.7/dist-packages/panel/examples/reference/widgets/DatetimeRangeInput.ipynb\n",
            "/usr/local/lib/python3.7/dist-packages/panel/examples/reference/widgets/RangeSlider.ipynb\n",
            "/usr/local/lib/python3.7/dist-packages/panel/examples/reference/widgets/TextToSpeech.ipynb\n",
            "/usr/local/lib/python3.7/dist-packages/panel/examples/reference/widgets/EditableFloatSlider.ipynb\n",
            "/usr/local/lib/python3.7/dist-packages/panel/examples/reference/widgets/DatePicker.ipynb\n",
            "/usr/local/lib/python3.7/dist-packages/panel/examples/reference/widgets/Toggle.ipynb\n",
            "/usr/local/lib/python3.7/dist-packages/panel/examples/reference/widgets/FileSelector.ipynb\n",
            "/usr/local/lib/python3.7/dist-packages/panel/examples/reference/widgets/LiteralInput.ipynb\n",
            "/usr/local/lib/python3.7/dist-packages/panel/examples/reference/widgets/FileInput.ipynb\n",
            "/usr/local/lib/python3.7/dist-packages/panel/examples/reference/widgets/Terminal.ipynb\n",
            "/usr/local/lib/python3.7/dist-packages/panel/examples/reference/widgets/FileDownload.ipynb\n",
            "/usr/local/lib/python3.7/dist-packages/panel/examples/reference/widgets/MultiChoice.ipynb\n",
            "/usr/local/lib/python3.7/dist-packages/panel/examples/reference/widgets/IntInput.ipynb\n",
            "/usr/local/lib/python3.7/dist-packages/panel/examples/reference/widgets/DatetimeInput.ipynb\n",
            "/usr/local/lib/python3.7/dist-packages/panel/examples/reference/widgets/SpeechToText.ipynb\n",
            "/usr/local/lib/python3.7/dist-packages/panel/examples/reference/widgets/DiscreteSlider.ipynb\n",
            "/usr/local/lib/python3.7/dist-packages/panel/examples/reference/widgets/DiscretePlayer.ipynb\n",
            "/usr/local/lib/python3.7/dist-packages/panel/examples/reference/widgets/ColorPicker.ipynb\n",
            "/usr/local/lib/python3.7/dist-packages/panel/examples/reference/widgets/Player.ipynb\n",
            "/usr/local/lib/python3.7/dist-packages/panel/examples/reference/widgets/FloatInput.ipynb\n",
            "/usr/local/lib/python3.7/dist-packages/panel/examples/reference/widgets/MultiSelect.ipynb\n",
            "/usr/local/lib/python3.7/dist-packages/panel/examples/reference/widgets/DataFrame.ipynb\n",
            "/usr/local/lib/python3.7/dist-packages/panel/examples/reference/widgets/Tabulator.ipynb\n",
            "/usr/local/lib/python3.7/dist-packages/panel/examples/reference/widgets/MenuButton.ipynb\n",
            "/usr/local/lib/python3.7/dist-packages/panel/examples/reference/widgets/CheckButtonGroup.ipynb\n",
            "/usr/local/lib/python3.7/dist-packages/panel/examples/reference/widgets/Ace.ipynb\n",
            "/usr/local/lib/python3.7/dist-packages/panel/examples/reference/widgets/IntRangeSlider.ipynb\n",
            "/usr/local/lib/python3.7/dist-packages/panel/examples/reference/widgets/PasswordInput.ipynb\n",
            "/usr/local/lib/python3.7/dist-packages/panel/examples/reference/widgets/Select.ipynb\n",
            "/usr/local/lib/python3.7/dist-packages/panel/examples/reference/widgets/FloatSlider.ipynb\n",
            "/usr/local/lib/python3.7/dist-packages/panel/examples/reference/widgets/IntSlider.ipynb\n",
            "/usr/local/lib/python3.7/dist-packages/panel/examples/reference/widgets/Button.ipynb\n",
            "/usr/local/lib/python3.7/dist-packages/panel/examples/reference/widgets/TextInput.ipynb\n",
            "/usr/local/lib/python3.7/dist-packages/panel/examples/reference/widgets/StaticText.ipynb\n",
            "/usr/local/lib/python3.7/dist-packages/panel/examples/reference/widgets/EditableIntSlider.ipynb\n",
            "/usr/local/lib/python3.7/dist-packages/panel/examples/reference/widgets/DateSlider.ipynb\n",
            "/usr/local/lib/python3.7/dist-packages/panel/examples/reference/widgets/CheckBoxGroup.ipynb\n",
            "/usr/local/lib/python3.7/dist-packages/panel/examples/reference/widgets/AutocompleteInput.ipynb\n",
            "/usr/local/lib/python3.7/dist-packages/panel/examples/reference/widgets/TextAreaInput.ipynb\n",
            "/usr/local/lib/python3.7/dist-packages/panel/examples/reference/widgets/RadioButtonGroup.ipynb\n",
            "/usr/local/lib/python3.7/dist-packages/panel/examples/reference/widgets/RadioBoxGroup.ipynb\n",
            "/usr/local/lib/python3.7/dist-packages/panel/examples/reference/widgets/Checkbox.ipynb\n",
            "/usr/local/lib/python3.7/dist-packages/panel/examples/reference/layouts/FlexBox.ipynb\n",
            "/usr/local/lib/python3.7/dist-packages/panel/examples/reference/layouts/GridSpec.ipynb\n",
            "/usr/local/lib/python3.7/dist-packages/panel/examples/reference/layouts/Accordion.ipynb\n",
            "/usr/local/lib/python3.7/dist-packages/panel/examples/reference/layouts/GridStack.ipynb\n",
            "/usr/local/lib/python3.7/dist-packages/panel/examples/reference/layouts/Tabs.ipynb\n",
            "/usr/local/lib/python3.7/dist-packages/panel/examples/reference/layouts/Divider.ipynb\n",
            "/usr/local/lib/python3.7/dist-packages/panel/examples/reference/layouts/Column.ipynb\n",
            "/usr/local/lib/python3.7/dist-packages/panel/examples/reference/layouts/GridBox.ipynb\n",
            "/usr/local/lib/python3.7/dist-packages/panel/examples/reference/layouts/WidgetBox.ipynb\n",
            "/usr/local/lib/python3.7/dist-packages/panel/examples/reference/layouts/Card.ipynb\n",
            "/usr/local/lib/python3.7/dist-packages/panel/examples/reference/layouts/Row.ipynb\n",
            "/usr/local/lib/python3.7/dist-packages/panel/examples/reference/templates/Material.ipynb\n",
            "/usr/local/lib/python3.7/dist-packages/panel/examples/reference/templates/React.ipynb\n",
            "/usr/local/lib/python3.7/dist-packages/panel/examples/reference/templates/GoldenLayout.ipynb\n",
            "/usr/local/lib/python3.7/dist-packages/panel/examples/reference/templates/FastListTemplate.ipynb\n",
            "/usr/local/lib/python3.7/dist-packages/panel/examples/reference/templates/Bootstrap.ipynb\n",
            "/usr/local/lib/python3.7/dist-packages/panel/examples/reference/templates/FastGridTemplate.ipynb\n",
            "/usr/local/lib/python3.7/dist-packages/panel/examples/reference/templates/Vanilla.ipynb\n",
            "/usr/local/lib/python3.7/dist-packages/nbclient/tests/files/Sleep1s.ipynb\n",
            "/usr/local/lib/python3.7/dist-packages/nbclient/tests/files/Skip Execution with Cell Tag.ipynb\n",
            "/usr/local/lib/python3.7/dist-packages/nbclient/tests/files/Autokill.ipynb\n",
            "/usr/local/lib/python3.7/dist-packages/nbclient/tests/files/Parallel Execute B.ipynb\n",
            "/usr/local/lib/python3.7/dist-packages/nbclient/tests/files/Clear Output.ipynb\n",
            "/usr/local/lib/python3.7/dist-packages/nbclient/tests/files/Factorials.ipynb\n",
            "/usr/local/lib/python3.7/dist-packages/nbclient/tests/files/Check History in Memory.ipynb\n",
            "/usr/local/lib/python3.7/dist-packages/nbclient/tests/files/JupyterWidgets.ipynb\n",
            "/usr/local/lib/python3.7/dist-packages/nbclient/tests/files/Skip Exceptions.ipynb\n",
            "/usr/local/lib/python3.7/dist-packages/nbclient/tests/files/Skip Exceptions with Cell Tags.ipynb\n",
            "/usr/local/lib/python3.7/dist-packages/nbclient/tests/files/Inline Image.ipynb\n",
            "/usr/local/lib/python3.7/dist-packages/nbclient/tests/files/UnicodePy3.ipynb\n",
            "/usr/local/lib/python3.7/dist-packages/nbclient/tests/files/update-display-id.ipynb\n",
            "/usr/local/lib/python3.7/dist-packages/nbclient/tests/files/SVG.ipynb\n",
            "/usr/local/lib/python3.7/dist-packages/nbclient/tests/files/Interrupt.ipynb\n",
            "/usr/local/lib/python3.7/dist-packages/nbclient/tests/files/Output.ipynb\n",
            "/usr/local/lib/python3.7/dist-packages/nbclient/tests/files/Parallel Execute A.ipynb\n",
            "/usr/local/lib/python3.7/dist-packages/nbclient/tests/files/Other Comms.ipynb\n",
            "/usr/local/lib/python3.7/dist-packages/nbclient/tests/files/Unicode.ipynb\n",
            "/usr/local/lib/python3.7/dist-packages/nbclient/tests/files/Empty Cell.ipynb\n",
            "/usr/local/lib/python3.7/dist-packages/nbclient/tests/files/HelloWorld.ipynb\n",
            "/usr/local/lib/python3.7/dist-packages/nbclient/tests/files/Error.ipynb\n",
            "/usr/local/lib/python3.7/dist-packages/nbclient/tests/files/Disable Stdin.ipynb\n",
            "/usr/local/lib/python3.7/dist-packages/matplotlib/backends/web_backend/nbagg_uat.ipynb\n",
            "/usr/local/lib/python3.7/dist-packages/colorcet/examples/user_guide/index.ipynb\n",
            "/usr/local/lib/python3.7/dist-packages/colorcet/examples/user_guide/Continuous.ipynb\n",
            "/usr/local/lib/python3.7/dist-packages/colorcet/examples/user_guide/Categorical.ipynb\n",
            "/usr/local/lib/python3.7/dist-packages/colorcet/examples/index.ipynb\n",
            "/usr/local/lib/python3.7/dist-packages/nbconvert/tests/files/notebook3_with_errors.ipynb\n",
            "/usr/local/lib/python3.7/dist-packages/nbconvert/tests/files/Widget_List.ipynb\n",
            "/usr/local/lib/python3.7/dist-packages/nbconvert/tests/files/markdown_display_priority.ipynb\n",
            "/usr/local/lib/python3.7/dist-packages/nbconvert/tests/files/notebook4_jpeg.ipynb\n",
            "/usr/local/lib/python3.7/dist-packages/nbconvert/tests/files/notebook1.ipynb\n",
            "/usr/local/lib/python3.7/dist-packages/nbconvert/tests/files/notebook_tags.ipynb\n",
            "/usr/local/lib/python3.7/dist-packages/nbconvert/tests/files/latex-linked-image.ipynb\n",
            "/usr/local/lib/python3.7/dist-packages/nbconvert/tests/files/notebook2.ipynb\n",
            "/usr/local/lib/python3.7/dist-packages/nbconvert/tests/files/notebook_jl.ipynb\n",
            "/usr/local/lib/python3.7/dist-packages/nbconvert/exporters/tests/files/pngmetadata.ipynb\n",
            "/usr/local/lib/python3.7/dist-packages/nbconvert/exporters/tests/files/svg.ipynb\n",
            "/usr/local/lib/python3.7/dist-packages/nbconvert/exporters/tests/files/prompt_numbers.ipynb\n",
            "/usr/local/lib/python3.7/dist-packages/nbconvert/exporters/tests/files/attachment.ipynb\n",
            "/usr/local/lib/python3.7/dist-packages/nbconvert/exporters/tests/files/rawtest.ipynb\n",
            "/usr/local/lib/python3.7/dist-packages/nbconvert/exporters/tests/files/notebook2.ipynb\n",
            "/usr/local/lib/python3.7/dist-packages/nbconvert/preprocessors/tests/files/Sleep One.ipynb\n",
            "/usr/local/lib/python3.7/dist-packages/nbconvert/preprocessors/tests/files/Parallel Execute B.ipynb\n",
            "/usr/local/lib/python3.7/dist-packages/nbconvert/preprocessors/tests/files/Clear Output.ipynb\n",
            "/usr/local/lib/python3.7/dist-packages/nbconvert/preprocessors/tests/files/Factorials.ipynb\n",
            "/usr/local/lib/python3.7/dist-packages/nbconvert/preprocessors/tests/files/Check History in Memory.ipynb\n",
            "/usr/local/lib/python3.7/dist-packages/nbconvert/preprocessors/tests/files/JupyterWidgets.ipynb\n",
            "/usr/local/lib/python3.7/dist-packages/nbconvert/preprocessors/tests/files/Skip Exceptions.ipynb\n",
            "/usr/local/lib/python3.7/dist-packages/nbconvert/preprocessors/tests/files/Skip Exceptions with Cell Tags.ipynb\n",
            "/usr/local/lib/python3.7/dist-packages/nbconvert/preprocessors/tests/files/Inline Image.ipynb\n",
            "/usr/local/lib/python3.7/dist-packages/nbconvert/preprocessors/tests/files/UnicodePy3.ipynb\n",
            "/usr/local/lib/python3.7/dist-packages/nbconvert/preprocessors/tests/files/update-display-id.ipynb\n",
            "/usr/local/lib/python3.7/dist-packages/nbconvert/preprocessors/tests/files/SVG.ipynb\n",
            "/usr/local/lib/python3.7/dist-packages/nbconvert/preprocessors/tests/files/Interrupt.ipynb\n",
            "/usr/local/lib/python3.7/dist-packages/nbconvert/preprocessors/tests/files/Skip Exceptions with Cell Tags-IPY6.ipynb\n",
            "/usr/local/lib/python3.7/dist-packages/nbconvert/preprocessors/tests/files/Parallel Execute A.ipynb\n",
            "/usr/local/lib/python3.7/dist-packages/nbconvert/preprocessors/tests/files/Unicode.ipynb\n",
            "/usr/local/lib/python3.7/dist-packages/nbconvert/preprocessors/tests/files/Empty Cell.ipynb\n",
            "/usr/local/lib/python3.7/dist-packages/nbconvert/preprocessors/tests/files/HelloWorld.ipynb\n",
            "/usr/local/lib/python3.7/dist-packages/nbconvert/preprocessors/tests/files/Skip Exceptions-IPY6.ipynb\n",
            "/usr/local/lib/python3.7/dist-packages/nbconvert/preprocessors/tests/files/Interrupt-IPY6.ipynb\n",
            "/usr/local/lib/python3.7/dist-packages/nbconvert/preprocessors/tests/files/Disable Stdin.ipynb\n",
            "/tensorflow-1.15.2/python3.7/tensor2tensor/visualization/TransformerVisualization.ipynb\n"
          ]
        }
      ]
    },
    {
      "cell_type": "code",
      "metadata": {
        "id": "QJBac5mWYQdJ"
      },
      "source": [
        "#comentario1"
      ],
      "execution_count": 6,
      "outputs": []
    },
    {
      "cell_type": "code",
      "metadata": {
        "colab": {
          "base_uri": "https://localhost:8080/"
        },
        "id": "ryoctXguaV6G",
        "outputId": "1c831163-9931-4770-ed0d-cc9818ea4d13"
      },
      "source": [
        "\"\"\"\n",
        "lectura de variables por teclado\n",
        "y conversion a tipo numerico para operar\n",
        "\"\"\"\n",
        "num=input(\"Dame un numero\")\n",
        "print(\"tu numero es \", num)\n",
        "print(\"tu numero multiplicado por 5 es \", num*5)\n",
        "\"\"\"\n",
        "Lo convertimos a entero\n",
        "\"\"\"\n",
        "num = int(num)\n",
        "print(\"tu numero multiplicado por 5 es \", num*5)"
      ],
      "execution_count": 7,
      "outputs": [
        {
          "output_type": "stream",
          "name": "stdout",
          "text": [
            "Dame un numero5\n",
            "tu numero es  5\n",
            "tu numero multiplicado por 5 es  55555\n",
            "tu numero multiplicado por 5 es  25\n"
          ]
        }
      ]
    },
    {
      "cell_type": "code",
      "metadata": {
        "colab": {
          "base_uri": "https://localhost:8080/"
        },
        "id": "Ti2fGyf7dLgh",
        "outputId": "ecedb84d-95e5-4e76-e186-e9410ebf0023"
      },
      "source": [
        "type(num)"
      ],
      "execution_count": 8,
      "outputs": [
        {
          "output_type": "execute_result",
          "data": {
            "text/plain": [
              "int"
            ]
          },
          "metadata": {},
          "execution_count": 8
        }
      ]
    },
    {
      "cell_type": "code",
      "metadata": {
        "colab": {
          "base_uri": "https://localhost:8080/"
        },
        "id": "YtdePV0KdpX2",
        "outputId": "bdf3fed0-9138-4daa-e668-7ba5de808ed2"
      },
      "source": [
        "num= 10//3\n",
        "type(num)"
      ],
      "execution_count": 14,
      "outputs": [
        {
          "output_type": "execute_result",
          "data": {
            "text/plain": [
              "int"
            ]
          },
          "metadata": {},
          "execution_count": 14
        }
      ]
    },
    {
      "cell_type": "code",
      "metadata": {
        "colab": {
          "base_uri": "https://localhost:8080/"
        },
        "id": "rbFtZQ_MeuJL",
        "outputId": "657cda95-4737-4ca9-8e22-e015d34d67c4"
      },
      "source": [
        "print(num)"
      ],
      "execution_count": 15,
      "outputs": [
        {
          "output_type": "stream",
          "name": "stdout",
          "text": [
            "3\n"
          ]
        }
      ]
    },
    {
      "cell_type": "code",
      "metadata": {
        "colab": {
          "base_uri": "https://localhost:8080/"
        },
        "id": "pA0F_RransaI",
        "outputId": "1847b859-4ac6-4335-a0df-ec2f93af680e"
      },
      "source": [
        "num = 10/3\n",
        "print(num)\n",
        "type(num)"
      ],
      "execution_count": 16,
      "outputs": [
        {
          "output_type": "stream",
          "name": "stdout",
          "text": [
            "3.3333333333333335\n"
          ]
        },
        {
          "output_type": "execute_result",
          "data": {
            "text/plain": [
              "float"
            ]
          },
          "metadata": {},
          "execution_count": 16
        }
      ]
    },
    {
      "cell_type": "code",
      "metadata": {
        "colab": {
          "base_uri": "https://localhost:8080/"
        },
        "id": "YZHtksa9oKfv",
        "outputId": "eedcf879-2923-4344-a414-bcc4e0d430fc"
      },
      "source": [
        "num = 10%3\n",
        "print(num)"
      ],
      "execution_count": 17,
      "outputs": [
        {
          "output_type": "stream",
          "name": "stdout",
          "text": [
            "1\n"
          ]
        }
      ]
    },
    {
      "cell_type": "code",
      "metadata": {
        "colab": {
          "base_uri": "https://localhost:8080/"
        },
        "id": "7Bp66Bf7opeJ",
        "outputId": "e703187d-b5e0-4b77-909e-3502f4651b6f"
      },
      "source": [
        "nombre= \"Carmen Nieves\"\n",
        "print(nombre)\n",
        "type(nombre)"
      ],
      "execution_count": 18,
      "outputs": [
        {
          "output_type": "stream",
          "name": "stdout",
          "text": [
            "Carmen Nieves\n"
          ]
        },
        {
          "output_type": "execute_result",
          "data": {
            "text/plain": [
              "str"
            ]
          },
          "metadata": {},
          "execution_count": 18
        }
      ]
    },
    {
      "cell_type": "code",
      "metadata": {
        "colab": {
          "base_uri": "https://localhost:8080/"
        },
        "id": "A8XTzGkIpAKp",
        "outputId": "262b6fc6-b7ba-406b-f0e9-787b6244b3dc"
      },
      "source": [
        "num = int(input(\"Dame un numero:\"))\n",
        "mayor = (10>num)\n",
        "print(mayor)\n",
        "type(mayor)"
      ],
      "execution_count": 19,
      "outputs": [
        {
          "output_type": "stream",
          "name": "stdout",
          "text": [
            "Dame un numero:20\n",
            "False\n"
          ]
        },
        {
          "output_type": "execute_result",
          "data": {
            "text/plain": [
              "bool"
            ]
          },
          "metadata": {},
          "execution_count": 19
        }
      ]
    },
    {
      "cell_type": "code",
      "metadata": {
        "colab": {
          "base_uri": "https://localhost:8080/"
        },
        "id": "KAseF2VXqzZa",
        "outputId": "13082e6e-0a4c-491d-ee3c-036ee8517caa"
      },
      "source": [
        "if (num == 5):\n",
        "  print(\"tu numero es 5\")\n",
        "else:\n",
        "  print(\"tu numero es diferente a 5\")"
      ],
      "execution_count": 21,
      "outputs": [
        {
          "output_type": "stream",
          "name": "stdout",
          "text": [
            "tu numero es diferente a 5\n"
          ]
        }
      ]
    },
    {
      "cell_type": "code",
      "metadata": {
        "colab": {
          "base_uri": "https://localhost:8080/"
        },
        "id": "-1Mg7Cgnrsnx",
        "outputId": "2c3c44f3-c1ca-4b3f-f267-6c6df1e5be74"
      },
      "source": [
        "if (num != 5):\n",
        "  print(\"tu numero es diferente de 5\")\n",
        "else:\n",
        "  print(\"tu numero es 5\")"
      ],
      "execution_count": 22,
      "outputs": [
        {
          "output_type": "stream",
          "name": "stdout",
          "text": [
            "tu numero es diferente de 5\n"
          ]
        }
      ]
    },
    {
      "cell_type": "code",
      "metadata": {
        "colab": {
          "base_uri": "https://localhost:8080/"
        },
        "id": "3mDwFVsGs2kN",
        "outputId": "ac52f394-bd95-436a-f0a0-eb2916eeb872"
      },
      "source": [
        "num = int(input(\"Dame un numero\"))\n",
        "if (num >= 10 and num<=15):\n",
        "  print(\"Numero entre 10 y 15\")\n",
        "elif (num >15):\n",
        "  print(\"numero mayor que 15\")\n",
        "else:\n",
        "  print(\"numero menor que 10\")"
      ],
      "execution_count": 29,
      "outputs": [
        {
          "output_type": "stream",
          "name": "stdout",
          "text": [
            "Dame un numero18\n",
            "numero mayor que 15\n"
          ]
        }
      ]
    },
    {
      "cell_type": "code",
      "metadata": {
        "colab": {
          "base_uri": "https://localhost:8080/"
        },
        "id": "ki-CDdhPt16b",
        "outputId": "cba72abe-7eae-42c9-a776-1b22ab7e1acc"
      },
      "source": [
        "lista = range(6)\n",
        "for i in lista:\n",
        "  print(i)"
      ],
      "execution_count": 24,
      "outputs": [
        {
          "output_type": "stream",
          "name": "stdout",
          "text": [
            "0\n",
            "1\n",
            "2\n",
            "3\n",
            "4\n",
            "5\n"
          ]
        }
      ]
    },
    {
      "cell_type": "code",
      "metadata": {
        "colab": {
          "base_uri": "https://localhost:8080/"
        },
        "id": "KOZcfZbvuDVs",
        "outputId": "b0322aef-83cb-411d-f00d-d8b6d16a2b91"
      },
      "source": [
        "lista = range(3,6)\n",
        "print (list(lista))\n",
        "print(\"la lista tiene\",len(lista),\"elementos\")"
      ],
      "execution_count": 26,
      "outputs": [
        {
          "output_type": "stream",
          "name": "stdout",
          "text": [
            "[3, 4, 5]\n",
            "la lista tiene 3 elementos\n"
          ]
        }
      ]
    },
    {
      "cell_type": "code",
      "metadata": {
        "colab": {
          "base_uri": "https://localhost:8080/"
        },
        "id": "S0AdXcv7ubi7",
        "outputId": "37929558-e410-41a9-ad3e-ed9d54ff0298"
      },
      "source": [
        "lista = range(1,19,2)\n",
        "list(lista) "
      ],
      "execution_count": 30,
      "outputs": [
        {
          "output_type": "execute_result",
          "data": {
            "text/plain": [
              "[1, 3, 5, 7, 9, 11, 13, 15, 17]"
            ]
          },
          "metadata": {},
          "execution_count": 30
        }
      ]
    },
    {
      "cell_type": "code",
      "metadata": {
        "colab": {
          "base_uri": "https://localhost:8080/"
        },
        "id": "cL2tle41yOYL",
        "outputId": "c4099663-bf11-4e81-c4bb-450951a195e1"
      },
      "source": [
        "nombre = \"Carmen Nieves\"\n",
        "n_mayus=nombre.upper()\n",
        "print(n_mayus)\n",
        "print(nombre[2])\n",
        "len(nombre)"
      ],
      "execution_count": 31,
      "outputs": [
        {
          "output_type": "stream",
          "name": "stdout",
          "text": [
            "CARMEN NIEVES\n",
            "r\n"
          ]
        },
        {
          "output_type": "execute_result",
          "data": {
            "text/plain": [
              "13"
            ]
          },
          "metadata": {},
          "execution_count": 31
        }
      ]
    },
    {
      "cell_type": "code",
      "metadata": {
        "colab": {
          "base_uri": "https://localhost:8080/"
        },
        "id": "YAcofphzy0yw",
        "outputId": "1775e4c6-a6ba-4c08-fb74-548074d20666"
      },
      "source": [
        "nombres = [\"Maria\", \"Pedro\", \"Juan\", \"Carmen\"]\n",
        "print(nombres[2])\n",
        "print(type(nombres))\n",
        "del nombres [2]\n",
        "print(nombres)\n",
        "nombres.insert (3, \"Jose\")\n",
        "print(nombres)\n",
        "print(\"para ver la posicion donde se encuentra un valor usas index, carmen se encuentra en la posicion:\",nombres.index(\"Carmen\"))\n",
        "print(nombres)\n",
        "print(\"Para ver los elementos de la posicion 1 a la 2,pongo un 3 al final\", nombres[1:3])\n",
        "nombres.append(\"Susana\")\n",
        "print(nombres)\n",
        "print(\"para ver los elementos de 2 en 2:\", nombres [::2])\n",
        "print(\"Para ver los elementos en orden invertido uso -1:\", nombres[::-1])\n",
        "#para listar uno a uno los elementos de la lista\n",
        "for i in nombres:\n",
        "  print(i)\n"
      ],
      "execution_count": 39,
      "outputs": [
        {
          "output_type": "stream",
          "name": "stdout",
          "text": [
            "Juan\n",
            "<class 'list'>\n",
            "['Maria', 'Pedro', 'Carmen']\n",
            "['Maria', 'Pedro', 'Carmen', 'Jose']\n",
            "para ver la posicion donde se encuentra un valor usas index, carmen se encuentra en la posicion: 2\n",
            "['Maria', 'Pedro', 'Carmen', 'Jose']\n",
            "Para ver los elementos de la posicion 1 a la 2,pongo un 3 al final ['Pedro', 'Carmen']\n",
            "['Maria', 'Pedro', 'Carmen', 'Jose', 'Susana']\n",
            "para ver los elementos de 2 en 2: ['Maria', 'Carmen', 'Susana']\n",
            "Para ver los elementos en orden invertido uso -1: ['Susana', 'Jose', 'Carmen', 'Pedro', 'Maria']\n",
            "Maria\n",
            "Pedro\n",
            "Carmen\n",
            "Jose\n",
            "Susana\n"
          ]
        }
      ]
    },
    {
      "cell_type": "code",
      "metadata": {
        "id": "IvzsLWwm0edU"
      },
      "source": [
        ""
      ],
      "execution_count": null,
      "outputs": []
    }
  ]
}