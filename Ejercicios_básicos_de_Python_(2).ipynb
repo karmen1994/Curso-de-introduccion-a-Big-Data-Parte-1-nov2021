{
  "nbformat": 4,
  "nbformat_minor": 0,
  "metadata": {
    "colab": {
      "name": "Ejercicios_básicos_de_Python_(2).ipynb",
      "provenance": [],
      "include_colab_link": true
    },
    "kernelspec": {
      "name": "python3",
      "display_name": "Python 3"
    },
    "language_info": {
      "name": "python"
    }
  },
  "cells": [
    {
      "cell_type": "markdown",
      "metadata": {
        "id": "view-in-github",
        "colab_type": "text"
      },
      "source": [
        "<a href=\"https://colab.research.google.com/github/karmen1994/Curso-de-introduccion-a-Big-Data-Parte-1-nov2021/blob/main/Ejercicios_b%C3%A1sicos_de_Python_(2).ipynb\" target=\"_parent\"><img src=\"https://colab.research.google.com/assets/colab-badge.svg\" alt=\"Open In Colab\"/></a>"
      ]
    },
    {
      "cell_type": "markdown",
      "metadata": {
        "id": "RL-pITQqPt9a"
      },
      "source": [
        "1. Cree una lista denominada \"islas\" con los nombres de las Islas Canarias (sin La Graciosa)"
      ]
    },
    {
      "cell_type": "code",
      "metadata": {
        "id": "5zRPFcaq8Xja"
      },
      "source": [
        "islas = [\"Tenerife\" , \"El Hierro\" , \"La Gomera\", \"La Palma\", \"Gan Canaria\", \"Fuerteventura\", \"Lanzarote\"]"
      ],
      "execution_count": 31,
      "outputs": []
    },
    {
      "cell_type": "markdown",
      "metadata": {
        "id": "F0uHBoNIQaol"
      },
      "source": [
        "2. Muestre el tipo de dato de \"islas\""
      ]
    },
    {
      "cell_type": "code",
      "metadata": {
        "colab": {
          "base_uri": "https://localhost:8080/"
        },
        "id": "IecuI-x78YkI",
        "outputId": "4887b14d-4903-473e-a685-7a2207a290a2"
      },
      "source": [
        "type(islas)"
      ],
      "execution_count": 12,
      "outputs": [
        {
          "output_type": "execute_result",
          "data": {
            "text/plain": [
              "list"
            ]
          },
          "metadata": {},
          "execution_count": 12
        }
      ]
    },
    {
      "cell_type": "markdown",
      "metadata": {
        "id": "vtIi_BKuQhzB"
      },
      "source": [
        "3. ¿Cuántos elementos tiene la lista?"
      ]
    },
    {
      "cell_type": "code",
      "metadata": {
        "colab": {
          "base_uri": "https://localhost:8080/"
        },
        "id": "B_6vGa3d8ZpI",
        "outputId": "c2bb62af-091e-49a6-990a-3fca4a36c30f"
      },
      "source": [
        "len(islas)"
      ],
      "execution_count": 13,
      "outputs": [
        {
          "output_type": "execute_result",
          "data": {
            "text/plain": [
              "7"
            ]
          },
          "metadata": {},
          "execution_count": 13
        }
      ]
    },
    {
      "cell_type": "markdown",
      "metadata": {
        "id": "jdjxinSmQ07Z"
      },
      "source": [
        "4. Muestre el primer elemento de la lista. Muestre después el cuarto elemento de la lista"
      ]
    },
    {
      "cell_type": "code",
      "metadata": {
        "colab": {
          "base_uri": "https://localhost:8080/"
        },
        "id": "3v-HGSB1_Zf5",
        "outputId": "01cd61d8-05b7-4bf3-a0ca-f60b95c0ef8c"
      },
      "source": [
        "print(islas[3])\n",
        "print(islas)"
      ],
      "execution_count": 17,
      "outputs": [
        {
          "output_type": "stream",
          "name": "stdout",
          "text": [
            "La Palma\n",
            "['Tenerife', 'El Hierro', 'La Gomera', 'La Palma', 'Gan Canaria', 'Fuerteventura', 'Lanzarote']\n"
          ]
        }
      ]
    },
    {
      "cell_type": "markdown",
      "metadata": {
        "id": "92cUTXBLRKnG"
      },
      "source": [
        "5. Muestre el tipo de dato del primer elemento de la lista"
      ]
    },
    {
      "cell_type": "code",
      "metadata": {
        "colab": {
          "base_uri": "https://localhost:8080/"
        },
        "id": "juYf5uVs8bG4",
        "outputId": "5a134934-3cc8-4875-d239-e7858b1acac3"
      },
      "source": [
        "type(islas[0])"
      ],
      "execution_count": 18,
      "outputs": [
        {
          "output_type": "execute_result",
          "data": {
            "text/plain": [
              "str"
            ]
          },
          "metadata": {},
          "execution_count": 18
        }
      ]
    },
    {
      "cell_type": "markdown",
      "metadata": {
        "id": "0ZOTl4bnRQj2"
      },
      "source": [
        "6. Ordene la lista \"islas\" por orden alfabético y muéstrela en pantalla"
      ]
    },
    {
      "cell_type": "code",
      "metadata": {
        "colab": {
          "base_uri": "https://localhost:8080/"
        },
        "id": "CbalxJTz8brg",
        "outputId": "a4f89c5e-dc6a-40d8-d646-123458e87448"
      },
      "source": [
        "ordenado = sorted(islas)\n",
        "print(ordenado)"
      ],
      "execution_count": 20,
      "outputs": [
        {
          "output_type": "stream",
          "name": "stdout",
          "text": [
            "['El Hierro', 'Fuerteventura', 'Gan Canaria', 'La Gomera', 'La Palma', 'Lanzarote', 'Tenerife']\n"
          ]
        }
      ]
    },
    {
      "cell_type": "markdown",
      "metadata": {
        "id": "SoBsVMqwTK5m"
      },
      "source": [
        "7. Muestre el último elemento de la lista"
      ]
    },
    {
      "cell_type": "code",
      "metadata": {
        "colab": {
          "base_uri": "https://localhost:8080/"
        },
        "id": "wt3HhC218ccg",
        "outputId": "1c56b918-c399-4a9f-fe2d-7a82c7dc849e"
      },
      "source": [
        "print(islas[-1])"
      ],
      "execution_count": 32,
      "outputs": [
        {
          "output_type": "stream",
          "name": "stdout",
          "text": [
            "Lanzarote\n"
          ]
        }
      ]
    },
    {
      "cell_type": "markdown",
      "metadata": {
        "id": "B-a55S5hTaYJ"
      },
      "source": [
        "8. Muestre los tres primeros elementos de la lista"
      ]
    },
    {
      "cell_type": "code",
      "metadata": {
        "colab": {
          "base_uri": "https://localhost:8080/"
        },
        "id": "2XsAW6tV8dIM",
        "outputId": "1282d9e6-d207-4e5a-b056-db25c142f5ef"
      },
      "source": [
        "print(islas[0:3])\n",
        "print(islas)"
      ],
      "execution_count": 36,
      "outputs": [
        {
          "output_type": "stream",
          "name": "stdout",
          "text": [
            "['Tenerife', 'El Hierro', 'La Gomera']\n",
            "['Tenerife', 'El Hierro', 'La Gomera', 'La Palma', 'Gan Canaria', 'Fuerteventura', 'Lanzarote']\n"
          ]
        }
      ]
    },
    {
      "cell_type": "markdown",
      "metadata": {
        "id": "Nn98RkJwToVq"
      },
      "source": [
        "9. Muestre los dos últimos elementos de la lista"
      ]
    },
    {
      "cell_type": "code",
      "metadata": {
        "colab": {
          "base_uri": "https://localhost:8080/"
        },
        "id": "geIQpwcp8d8z",
        "outputId": "3f38e665-f7f8-4e96-8bb4-7df7456605ac"
      },
      "source": [
        "print(islas[-2:])"
      ],
      "execution_count": 39,
      "outputs": [
        {
          "output_type": "stream",
          "name": "stdout",
          "text": [
            "['Fuerteventura', 'Lanzarote']\n"
          ]
        }
      ]
    },
    {
      "cell_type": "markdown",
      "metadata": {
        "id": "3wYntBwBXL3P"
      },
      "source": [
        "10. ¿qué posición ocupa \"La Gomera\" en la lista \"islas\"?"
      ]
    },
    {
      "cell_type": "code",
      "metadata": {
        "colab": {
          "base_uri": "https://localhost:8080/"
        },
        "id": "s0I1oya98fXw",
        "outputId": "00b45bfd-355d-4096-9e63-b25f5c121c8c"
      },
      "source": [
        "islas.index(\"La Gomera\")"
      ],
      "execution_count": 40,
      "outputs": [
        {
          "output_type": "execute_result",
          "data": {
            "text/plain": [
              "2"
            ]
          },
          "metadata": {},
          "execution_count": 40
        }
      ]
    },
    {
      "cell_type": "markdown",
      "metadata": {
        "id": "74LCirh7T434"
      },
      "source": [
        "11. Añada \"La Graciosa\" a la lista \"islas\""
      ]
    },
    {
      "cell_type": "code",
      "metadata": {
        "colab": {
          "base_uri": "https://localhost:8080/"
        },
        "id": "NiNiL3MB8gGo",
        "outputId": "5c156a41-0af3-44f5-e0e2-50dd3d9e1890"
      },
      "source": [
        "print(islas)\n",
        "islas.insert(7, \"La Graciosa\")\n",
        "print(islas)"
      ],
      "execution_count": 41,
      "outputs": [
        {
          "output_type": "stream",
          "name": "stdout",
          "text": [
            "['Tenerife', 'El Hierro', 'La Gomera', 'La Palma', 'Gan Canaria', 'Fuerteventura', 'Lanzarote']\n",
            "['Tenerife', 'El Hierro', 'La Gomera', 'La Palma', 'Gan Canaria', 'Fuerteventura', 'Lanzarote', 'La Graciosa']\n"
          ]
        }
      ]
    },
    {
      "cell_type": "markdown",
      "metadata": {
        "id": "Ajf8AN-7Wb9K"
      },
      "source": [
        "12. Compruebe si \"La Graciosa\" está en la lista \"islas\""
      ]
    },
    {
      "cell_type": "code",
      "metadata": {
        "colab": {
          "base_uri": "https://localhost:8080/"
        },
        "id": "okAgC5Ej8hnb",
        "outputId": "74e7b573-7461-459a-b805-756a16351059"
      },
      "source": [
        "print(islas)\n",
        "islas.index(\"La Graciosa\")"
      ],
      "execution_count": 43,
      "outputs": [
        {
          "output_type": "stream",
          "name": "stdout",
          "text": [
            "['Tenerife', 'El Hierro', 'La Gomera', 'La Palma', 'Gan Canaria', 'Fuerteventura', 'Lanzarote', 'La Graciosa']\n"
          ]
        },
        {
          "output_type": "execute_result",
          "data": {
            "text/plain": [
              "7"
            ]
          },
          "metadata": {},
          "execution_count": 43
        }
      ]
    },
    {
      "cell_type": "markdown",
      "metadata": {
        "id": "-2PaFdVfW0W1"
      },
      "source": [
        "13. Elimine \"La Graciosa\" de la lista \"islas\" y compruebe si \"La Graciosa\" está en la lista \"islas\""
      ]
    },
    {
      "cell_type": "code",
      "metadata": {
        "colab": {
          "base_uri": "https://localhost:8080/"
        },
        "id": "dIFW4Hyo8icJ",
        "outputId": "a7a57459-6278-4ef7-9d2d-6b9e5fa7019d"
      },
      "source": [
        "del islas[7]\n",
        "print(islas)"
      ],
      "execution_count": 44,
      "outputs": [
        {
          "output_type": "stream",
          "name": "stdout",
          "text": [
            "['Tenerife', 'El Hierro', 'La Gomera', 'La Palma', 'Gan Canaria', 'Fuerteventura', 'Lanzarote']\n"
          ]
        }
      ]
    },
    {
      "cell_type": "markdown",
      "metadata": {
        "id": "mag-C9DnYxM1"
      },
      "source": [
        "14. Muestre los elementos de la lista de uno en uno"
      ]
    },
    {
      "cell_type": "code",
      "metadata": {
        "colab": {
          "base_uri": "https://localhost:8080/"
        },
        "id": "u0JBnslt8jYQ",
        "outputId": "8d276b11-4a9b-49d5-f7e7-18cace7dd5f6"
      },
      "source": [
        "islas[::1]"
      ],
      "execution_count": 45,
      "outputs": [
        {
          "output_type": "execute_result",
          "data": {
            "text/plain": [
              "['Tenerife',\n",
              " 'El Hierro',\n",
              " 'La Gomera',\n",
              " 'La Palma',\n",
              " 'Gan Canaria',\n",
              " 'Fuerteventura',\n",
              " 'Lanzarote']"
            ]
          },
          "metadata": {},
          "execution_count": 45
        }
      ]
    },
    {
      "cell_type": "markdown",
      "metadata": {
        "id": "f44HAA2IIfIZ"
      },
      "source": [
        "15. Pregunte al usuario en qué isla reside, almacénelo en la variable isla e indique al usuario \"Resides en la isla ....\""
      ]
    },
    {
      "cell_type": "code",
      "metadata": {
        "colab": {
          "base_uri": "https://localhost:8080/"
        },
        "id": "l-Sm_D3a8kKA",
        "outputId": "464ee4cf-565f-41d3-ee0b-64ac6a91e441"
      },
      "source": [
        "isla = str(input(\"¿En que isla reside?\"))\n",
        "print(\"Resides en la isla\",isla)"
      ],
      "execution_count": 47,
      "outputs": [
        {
          "output_type": "stream",
          "name": "stdout",
          "text": [
            "¿En que isla reside?La Palma\n",
            "Resides en la isla La Palma\n"
          ]
        }
      ]
    },
    {
      "cell_type": "markdown",
      "metadata": {
        "id": "cIWa1oxZJCeZ"
      },
      "source": [
        "16. Compruebe si la isla está en la lista de islas y muestre un mensaje indicando \"Resides en una isla de las Islas Canarias\" en caso afirmativo o \"La isla .... no pertenece a las Islas Canarias\" en caso negativo"
      ]
    },
    {
      "cell_type": "code",
      "metadata": {
        "colab": {
          "base_uri": "https://localhost:8080/"
        },
        "id": "G6MtZW8l8lRA",
        "outputId": "6b7c8584-af9d-4d62-e7a3-b838de7a1589"
      },
      "source": [
        "isla = str(input(\"¿En que isla reside?\"))\n",
        "if isla in islas:\n",
        "  print(\"Resides en una de las islas Canarias\")\n",
        "else:\n",
        "  print(\"La isla\",isla, \"no pertenece a las islas canarias\")"
      ],
      "execution_count": 50,
      "outputs": [
        {
          "output_type": "stream",
          "name": "stdout",
          "text": [
            "¿En que isla reside?Formentera\n",
            "La isla Formentera no pertenece a las islas canarias\n"
          ]
        }
      ]
    }
  ]
}